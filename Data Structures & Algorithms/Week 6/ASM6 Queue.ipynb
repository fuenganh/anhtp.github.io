{
 "cells": [
  {
   "attachments": {},
   "cell_type": "markdown",
   "metadata": {},
   "source": [
    "- Full name: Trần Phương Anh\n",
    "- Student ID: 11219258\n",
    "- Class: DSEB63"
   ]
  },
  {
   "attachments": {},
   "cell_type": "markdown",
   "metadata": {},
   "source": [
    "#### **Problem 1: Queue Implementation With Limited Capacity**"
   ]
  },
  {
   "cell_type": "code",
   "execution_count": 74,
   "metadata": {},
   "outputs": [],
   "source": [
    "class Empty(Exception):\n",
    "    pass\n",
    "\n",
    "\n",
    "class Full(Exception):\n",
    "    pass"
   ]
  },
  {
   "attachments": {},
   "cell_type": "markdown",
   "metadata": {},
   "source": [
    "a. Implement the Queue class:"
   ]
  },
  {
   "cell_type": "code",
   "execution_count": 75,
   "metadata": {},
   "outputs": [],
   "source": [
    "class Queue:\n",
    "    \"\"\"FIFO Queue implementation using a Python list as underlying storage.\"\"\"\n",
    "\n",
    "    def __init__(self):\n",
    "        self._queue = []\n",
    "        self._size = 0\n",
    "\n",
    "    def __len__(self):\n",
    "        return int(len(self._queue))\n",
    "    \n",
    "    def is_empty(self):\n",
    "        return len(self._queue) == 0\n",
    "\n",
    "    def __repr__(self):\n",
    "        return str(self._queue)\n",
    "    \n",
    "    def first(self):\n",
    "        if self.is_empty():\n",
    "            raise Empty(\"Queue is empty!\")\n",
    "        \n",
    "        return self._queue[0]\n",
    "    \n",
    "    def dequeue(self):\n",
    "        if self.is_empty():\n",
    "            raise Empty(\"Queue is empty!\")\n",
    "        self._size -= 1\n",
    "        \n",
    "        return self._queue.pop(0)\n",
    "    \n",
    "    def enqueue(self, e):\n",
    "        self._queue.append(e)\n",
    "        self._size += 1"
   ]
  },
  {
   "cell_type": "code",
   "execution_count": 76,
   "metadata": {},
   "outputs": [
    {
     "name": "stdout",
     "output_type": "stream",
     "text": [
      "[5, 3, 4]\n",
      "3\n",
      "5\n",
      "[3, 4]\n"
     ]
    }
   ],
   "source": [
    "hw6 = Queue()\n",
    "list = [5, 3, 4]\n",
    "\n",
    "for item in list:\n",
    "    hw6.enqueue(item)\n",
    "\n",
    "print(hw6)\n",
    "print(len(hw6))\n",
    "\n",
    "hw6.is_empty()\n",
    "hw6.first()\n",
    "print(hw6.dequeue())\n",
    "print(hw6)\n"
   ]
  },
  {
   "attachments": {},
   "cell_type": "markdown",
   "metadata": {},
   "source": [
    "|**OPERATION**|**RETURN VALUE**|**QUEUE CONTENTS**|\n",
    "|---------|----------|---------|\n",
    "| hw6.enqueue(5)| -| [5]|\n",
    "| hw6.enqueue(3)| -| [5, 3]|\n",
    "| hw6.enqueue(4)| -| [5, 3, 4]|\n",
    "| len(hw6)| 3| [5, 3, 4]|\n",
    "| hw6.is_empty()| False| [5, 3, 4]|\n",
    "| hw6.first()| 5| [5, 3, 4]|\n",
    "| hw6.dequeue()| 5| [3, 4]|\n",
    "| ...|||\n"
   ]
  },
  {
   "attachments": {},
   "cell_type": "markdown",
   "metadata": {},
   "source": [
    "b. Modify the Queue implementation above so that the queue’s capacity is limited to maxlen elements, where maxlen is an optional parameter to the constructor."
   ]
  },
  {
   "cell_type": "code",
   "execution_count": 80,
   "metadata": {},
   "outputs": [],
   "source": [
    "class QueueMaxLen:\n",
    "    \"\"\"FIFO Queue implementation with limited capacity using a Python list as underlying storage.\"\"\"\n",
    "\n",
    "    def __init__(self, maxlen=None):\n",
    "        self._queue = []\n",
    "        self._size = 0\n",
    "        self._maxlen = maxlen\n",
    "\n",
    "    def __str__(self):\n",
    "        return str(self._queue)\n",
    "    \n",
    "    def __len__(self):\n",
    "        return int(len(self._queue))\n",
    "    \n",
    "    def is_empty(self):\n",
    "        return len(self._queue) == 0\n",
    "    \n",
    "    def first(self):\n",
    "        \n",
    "        if self.is_empty():\n",
    "            raise Empty(\"Queue is empty!\")\n",
    "        \n",
    "        return self._queue[0]\n",
    "        \n",
    "    def dequeue(self):\n",
    "\n",
    "        if self.is_empty():\n",
    "            raise Empty(\"Queue is empty!\")\n",
    "        self._size -= 1\n",
    "\n",
    "        return self._queue.pop(0)\n",
    "    \n",
    "    def enqueue(self, e):\n",
    "        \n",
    "        if self._size == self._maxlen:\n",
    "            raise Full(\"Queue is at full capacity!\")\n",
    "        \n",
    "        self._queue.append(e)\n",
    "        self._size += 1"
   ]
  },
  {
   "cell_type": "code",
   "execution_count": 81,
   "metadata": {},
   "outputs": [
    {
     "name": "stdout",
     "output_type": "stream",
     "text": [
      "[3, 4, 6, 7]\n"
     ]
    }
   ],
   "source": [
    "hw6 = QueueMaxLen(5)\n",
    "list = [3, 4, 6, 7]\n",
    "\n",
    "for item in list:\n",
    "    hw6.enqueue(item)\n",
    "\n",
    "print(hw6)\n"
   ]
  },
  {
   "cell_type": "code",
   "execution_count": 82,
   "metadata": {},
   "outputs": [
    {
     "ename": "Full",
     "evalue": "Queue is at full capacity!",
     "output_type": "error",
     "traceback": [
      "\u001b[0;31m---------------------------------------------------------------------------\u001b[0m",
      "\u001b[0;31mFull\u001b[0m                                      Traceback (most recent call last)",
      "Cell \u001b[0;32mIn[82], line 2\u001b[0m\n\u001b[1;32m      1\u001b[0m hw6\u001b[39m.\u001b[39menqueue(\u001b[39m8\u001b[39m)\n\u001b[0;32m----> 2\u001b[0m hw6\u001b[39m.\u001b[39;49menqueue(\u001b[39m9\u001b[39;49m)\n\u001b[1;32m      3\u001b[0m hw6\u001b[39m.\u001b[39menqueue(\u001b[39m10\u001b[39m)\n",
      "Cell \u001b[0;32mIn[80], line 36\u001b[0m, in \u001b[0;36mQueueMaxLen.enqueue\u001b[0;34m(self, e)\u001b[0m\n\u001b[1;32m     33\u001b[0m \u001b[39mdef\u001b[39;00m \u001b[39menqueue\u001b[39m(\u001b[39mself\u001b[39m, e):\n\u001b[1;32m     35\u001b[0m     \u001b[39mif\u001b[39;00m \u001b[39mself\u001b[39m\u001b[39m.\u001b[39m_size \u001b[39m==\u001b[39m \u001b[39mself\u001b[39m\u001b[39m.\u001b[39m_maxlen:\n\u001b[0;32m---> 36\u001b[0m         \u001b[39mraise\u001b[39;00m Full(\u001b[39m\"\u001b[39m\u001b[39mQueue is at full capacity!\u001b[39m\u001b[39m\"\u001b[39m)\n\u001b[1;32m     38\u001b[0m     \u001b[39mself\u001b[39m\u001b[39m.\u001b[39m_queue\u001b[39m.\u001b[39mappend(e)\n\u001b[1;32m     39\u001b[0m     \u001b[39mself\u001b[39m\u001b[39m.\u001b[39m_size \u001b[39m+\u001b[39m\u001b[39m=\u001b[39m \u001b[39m1\u001b[39m\n",
      "\u001b[0;31mFull\u001b[0m: Queue is at full capacity!"
     ]
    }
   ],
   "source": [
    "hw6.enqueue(8)\n",
    "hw6.enqueue(9)\n",
    "hw6.enqueue(10)"
   ]
  },
  {
   "attachments": {},
   "cell_type": "markdown",
   "metadata": {},
   "source": [
    "#### **Problem 2: QueueByStack and StackByQueue**"
   ]
  },
  {
   "cell_type": "code",
   "execution_count": 83,
   "metadata": {},
   "outputs": [],
   "source": [
    "class Stack:\n",
    "    \"\"\"LIFO Stack implementation using a Python list as underlying storage.\"\"\"\n",
    "\n",
    "    def __init__(self):\n",
    "        self._data = []\n",
    "\n",
    "    def __len__(self):\n",
    "        return int(len(self._data))\n",
    "    \n",
    "    def __str__(self):\n",
    "        return str(self._data)\n",
    "    \n",
    "    def is_empty(self):\n",
    "        return len(self._data) == 0\n",
    "    \n",
    "    def push(self, e):\n",
    "        self._data.append(e)\n",
    "\n",
    "    def top(self):\n",
    "        if self.is_empty():\n",
    "            raise Empty(\"Stack is empty!\")\n",
    "        \n",
    "        return self._data[-1]\n",
    "    \n",
    "    def pop(self):\n",
    "        if self.is_empty():\n",
    "            raise Empty(\"Stack is empty!\")\n",
    "        \n",
    "        return self._data.pop()"
   ]
  },
  {
   "attachments": {},
   "cell_type": "markdown",
   "metadata": {},
   "source": [
    "a. \bQueueByStack"
   ]
  },
  {
   "cell_type": "code",
   "execution_count": 84,
   "metadata": {},
   "outputs": [],
   "source": [
    "class QueueByStack:\n",
    "    \n",
    "    def __init__(self):\n",
    "        self._queue = Stack()\n",
    "\n",
    "    def __len__(self):\n",
    "        return len(self._queue)\n",
    "    \n",
    "    def __str__(self):\n",
    "        return str(self._queue)\n",
    "    \n",
    "    def first(self):\n",
    "        temp = Stack()\n",
    "        while self:\n",
    "            temp.push(self._queue.pop())\n",
    "        \n",
    "        ans = temp.top()\n",
    "        while temp:\n",
    "            self._queue.push(temp.pop())\n",
    "\n",
    "        return ans\n",
    "\n",
    "    def enqueue(self, e):\n",
    "        self._queue.push(e)\n",
    "\n",
    "    def dequeue(self):\n",
    "        temp = Stack()\n",
    "        while self:\n",
    "            temp.push(self._queue.pop())\n",
    "        \n",
    "        ans = temp.pop()\n",
    "        while temp:\n",
    "            self._queue.push(temp.pop())\n",
    "\n",
    "        return ans\n"
   ]
  },
  {
   "cell_type": "code",
   "execution_count": 85,
   "metadata": {},
   "outputs": [
    {
     "name": "stdout",
     "output_type": "stream",
     "text": [
      "[5, 3, 4, 6]\n",
      "5\n",
      "[3, 4, 6]\n"
     ]
    }
   ],
   "source": [
    "hw6 = QueueByStack()\n",
    "hw6.enqueue(5)\n",
    "hw6.enqueue(3)\n",
    "hw6.enqueue(4)\n",
    "hw6.enqueue(6)\n",
    "\n",
    "print(hw6)\n",
    "print(hw6.dequeue())\n",
    "print(hw6)"
   ]
  },
  {
   "attachments": {},
   "cell_type": "markdown",
   "metadata": {},
   "source": [
    "b. StackByQueue"
   ]
  },
  {
   "cell_type": "code",
   "execution_count": 86,
   "metadata": {},
   "outputs": [],
   "source": [
    "class StackByQueue:\n",
    "    \n",
    "    def __init__(self):\n",
    "        self._stack = Queue()\n",
    "        \n",
    "    def __len__(self):\n",
    "        return len(self._stack)\n",
    "    \n",
    "    def __str__(self):\n",
    "        return str(self._stack)\n",
    "\n",
    "    def pop(self):\n",
    "        temp = Queue()\n",
    "        for item in range(0, len(self._stack)-1):\n",
    "            temp.enqueue(self._stack.dequeue())\n",
    "        \n",
    "        ans = self._stack.dequeue() \n",
    "        for item in range(0, len(temp)):\n",
    "            self._stack.enqueue(temp.dequeue())   \n",
    "        \n",
    "        return ans\n",
    "    \n",
    "    def push(self, e):\n",
    "        return self._stack.enqueue(e)\n",
    "    \n",
    "    def top(self):\n",
    "        temp = Queue()\n",
    "        for item in range(0, len(self._stack)-1):\n",
    "            temp.enqueue(self._stack.dequeue())\n",
    "        \n",
    "        ans = self._stack.dequeue() \n",
    "        for item in range(0, len(temp)):\n",
    "            self._stack.enqueue(temp.dequeue())   \n",
    "        self._stack.enqueue(ans)       \n",
    "    \n",
    "        return ans"
   ]
  },
  {
   "cell_type": "code",
   "execution_count": 87,
   "metadata": {},
   "outputs": [
    {
     "name": "stdout",
     "output_type": "stream",
     "text": [
      "[5, 3, 4, 6]\n",
      "6\n",
      "[5, 3, 4, 6]\n"
     ]
    }
   ],
   "source": [
    "hw6 = StackByQueue()\n",
    "hw6.push(5)\n",
    "hw6.push(3)\n",
    "hw6.push(4)\n",
    "hw6.push(6)\n",
    "\n",
    "print(hw6)\n",
    "print(hw6.top())\n",
    "print(hw6)\n",
    "\n"
   ]
  },
  {
   "attachments": {},
   "cell_type": "markdown",
   "metadata": {},
   "source": [
    "#### **Problem 3: Buy Tickets for Blackpink Concert**"
   ]
  },
  {
   "cell_type": "code",
   "execution_count": 88,
   "metadata": {},
   "outputs": [],
   "source": [
    "def get_time(tickets: Queue(), k):\n",
    "    time = 0\n",
    "    while tickets:\n",
    "        temp = tickets.dequeue() - 1\n",
    "        time += 1\n",
    "        # print(tickets)\n",
    "        k = (k-1) % len(tickets)\n",
    "        # print(k)\n",
    "\n",
    "        if temp != 0:\n",
    "            tickets.enqueue(temp)\n",
    "            # print(tickets)\n",
    "\n",
    "            if k == 0 and tickets.first() == 1:\n",
    "                time += 1\n",
    "                break\n",
    "    \n",
    "    return time\n",
    "            "
   ]
  },
  {
   "cell_type": "code",
   "execution_count": 89,
   "metadata": {},
   "outputs": [
    {
     "data": {
      "text/plain": [
       "6"
      ]
     },
     "execution_count": 89,
     "metadata": {},
     "output_type": "execute_result"
    }
   ],
   "source": [
    "tickets = Queue()\n",
    "\n",
    "for i in [2,3,2]:\n",
    "    tickets.enqueue(i)\n",
    "\n",
    "get_time(tickets, 2)"
   ]
  },
  {
   "cell_type": "code",
   "execution_count": 90,
   "metadata": {},
   "outputs": [
    {
     "ename": "ZeroDivisionError",
     "evalue": "integer division or modulo by zero",
     "output_type": "error",
     "traceback": [
      "\u001b[0;31m---------------------------------------------------------------------------\u001b[0m",
      "\u001b[0;31mZeroDivisionError\u001b[0m                         Traceback (most recent call last)",
      "Cell \u001b[0;32mIn[90], line 6\u001b[0m\n\u001b[1;32m      3\u001b[0m \u001b[39mfor\u001b[39;00m i \u001b[39min\u001b[39;00m [\u001b[39m5\u001b[39m, \u001b[39m1\u001b[39m, \u001b[39m1\u001b[39m, \u001b[39m1\u001b[39m]:\n\u001b[1;32m      4\u001b[0m     tickets\u001b[39m.\u001b[39menqueue(i)\n\u001b[0;32m----> 6\u001b[0m get_time(tickets, \u001b[39m0\u001b[39;49m)\n",
      "Cell \u001b[0;32mIn[88], line 7\u001b[0m, in \u001b[0;36mget_time\u001b[0;34m(tickets, k)\u001b[0m\n\u001b[1;32m      5\u001b[0m time \u001b[39m+\u001b[39m\u001b[39m=\u001b[39m \u001b[39m1\u001b[39m\n\u001b[1;32m      6\u001b[0m \u001b[39m# print(tickets)\u001b[39;00m\n\u001b[0;32m----> 7\u001b[0m k \u001b[39m=\u001b[39m (k\u001b[39m-\u001b[39;49m\u001b[39m1\u001b[39;49m) \u001b[39m%\u001b[39;49m \u001b[39mlen\u001b[39;49m(tickets)\n\u001b[1;32m      8\u001b[0m \u001b[39m# print(k)\u001b[39;00m\n\u001b[1;32m     10\u001b[0m \u001b[39mif\u001b[39;00m temp \u001b[39m!=\u001b[39m \u001b[39m0\u001b[39m:\n",
      "\u001b[0;31mZeroDivisionError\u001b[0m: integer division or modulo by zero"
     ]
    }
   ],
   "source": [
    "tickets = Queue()\n",
    "\n",
    "for i in [5, 1, 1, 1]:\n",
    "    tickets.enqueue(i)\n",
    "\n",
    "get_time(tickets, 0)"
   ]
  }
 ],
 "metadata": {
  "kernelspec": {
   "display_name": "Python 3",
   "language": "python",
   "name": "python3"
  },
  "language_info": {
   "codemirror_mode": {
    "name": "ipython",
    "version": 3
   },
   "file_extension": ".py",
   "mimetype": "text/x-python",
   "name": "python",
   "nbconvert_exporter": "python",
   "pygments_lexer": "ipython3",
   "version": "3.9.6 (default, Oct 18 2022, 12:41:40) \n[Clang 14.0.0 (clang-1400.0.29.202)]"
  },
  "orig_nbformat": 4,
  "vscode": {
   "interpreter": {
    "hash": "31f2aee4e71d21fbe5cf8b01ff0e069b9275f58929596ceb00d14d90e3e16cd6"
   }
  }
 },
 "nbformat": 4,
 "nbformat_minor": 2
}
