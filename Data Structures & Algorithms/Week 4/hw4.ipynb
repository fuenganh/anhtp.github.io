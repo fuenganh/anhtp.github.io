{
 "cells": [
  {
   "attachments": {},
   "cell_type": "markdown",
   "metadata": {},
   "source": [
    "- Full name: Trần Phương Anh\n",
    "- Student ID: 11219258\n",
    "- Class: DSEB63"
   ]
  },
  {
   "attachments": {},
   "cell_type": "markdown",
   "metadata": {},
   "source": [
    "#### **Problem 1: Constructing A Dynamic Array**"
   ]
  },
  {
   "cell_type": "code",
   "execution_count": 224,
   "metadata": {},
   "outputs": [],
   "source": [
    "class LeaderBoard:\n",
    "    \"\"\"Fixed length sequence of high scores in descending order.\"\"\"\n",
    "\n",
    "    def __init__(self, capacity):\n",
    "        \"\"\"Initialize leader board with given maximum capacity\n",
    "        All entries are initially None \n",
    "        Capacity must be a positive integer.\"\"\"\n",
    "        self._array = [None]*capacity\n",
    "        self._capacity = capacity\n",
    "        pass\n",
    "    \n",
    "    def __len__(self):\n",
    "        \"\"\"Return the number of non None elements in the board.\"\"\"\n",
    "        count = 0\n",
    "        for i in self._array:\n",
    "            if i != None:\n",
    "                count += 1\n",
    "        return count\n",
    "\n",
    "    def get_player(self, player):\n",
    "        \"\"\"Find a player in leader board using his name.\n",
    "        Print not found if that player isn't in the board.\"\"\"\n",
    "        for (name, score) in self._array:\n",
    "            if name == player:\n",
    "                return (name, score)\n",
    "        return \"NOT FOUND!\"\n",
    "\n",
    "    def __str__(self):\n",
    "        \"\"\"Return string representation of the LeaderBoard.\"\"\" \n",
    "        result = \"\"\n",
    "        for (name, score) in self._array:\n",
    "            result += f\"Name: {name} - Score: {score}\\n\" \n",
    "        return result\n",
    "\n",
    "    def __delitem__(self, k):\n",
    "        \"\"\"Delete score of rank k\n",
    "        k must be a positive interger and smaller than LEN of current leader board.\"\"\"\n",
    "        pass\n",
    "\n",
    "    def add(self, new_entry):\n",
    "        \"\"\"Consider adding new entry to high scores\n",
    "        new_entry: a tuple including score and player information.\"\"\" \n",
    "        length = len(self)\n",
    "\n",
    "        if length < self._capacity:\n",
    "            self._array[length] = new_entry\n"
   ]
  },
  {
   "cell_type": "code",
   "execution_count": 226,
   "metadata": {},
   "outputs": [
    {
     "name": "stdout",
     "output_type": "stream",
     "text": [
      "Name: Catto - Score: 25\n",
      "Name: Doggo - Score: 28\n",
      "Name: Bunny - Score: 19\n",
      "Name: Panda - Score: 20\n",
      "Name: Snaky - Score: 30\n",
      "Name: Racoon - Score: 23\n",
      "Name: Larma - Score: 21\n",
      "\n"
     ]
    }
   ],
   "source": [
    "leaderBoard = LeaderBoard(7)\n",
    "listPlayer = [('Catto', 25), ('Doggo', 28), ('Bunny', 19), ('Panda', 20), ('Snaky', 30), ('Racoon', 23), ('Larma', 21)]\n",
    "\n",
    "for player in listPlayer:\n",
    "    leaderBoard.add(player)\n",
    "print(leaderBoard)"
   ]
  },
  {
   "cell_type": "code",
   "execution_count": 227,
   "metadata": {},
   "outputs": [
    {
     "name": "stdout",
     "output_type": "stream",
     "text": [
      "('Catto', 25)\n"
     ]
    }
   ],
   "source": [
    "print(leaderBoard.get_player('Catto'))"
   ]
  },
  {
   "attachments": {},
   "cell_type": "markdown",
   "metadata": {},
   "source": [
    "#### **Problem 2: Insertion Sort Algorithm**"
   ]
  },
  {
   "cell_type": "code",
   "execution_count": 179,
   "metadata": {},
   "outputs": [],
   "source": [
    "def insertion_sort(array):\n",
    "    length = len(array)\n",
    "\n",
    "    for i in range(1, length):\n",
    "        if array[i-1] > array[i]:\n",
    "            array[i], array[i-1] = array[i-1], array[i]\n",
    "        \n",
    "        for j in range(i-1, 0, -1):\n",
    "            if array[j-1] > array[j]:\n",
    "                array[j-1], array[j] = array[j], array[j-1]"
   ]
  },
  {
   "cell_type": "code",
   "execution_count": 180,
   "metadata": {},
   "outputs": [
    {
     "name": "stdout",
     "output_type": "stream",
     "text": [
      "[-1, 0, 2, 4, 5, 6, 8, 9, 10]\n"
     ]
    }
   ],
   "source": [
    "array = [6, 9, 10, 2, 0, -1, 4, 5, 8]\n",
    "insertion_sort(array)\n",
    "print(array)"
   ]
  },
  {
   "cell_type": "code",
   "execution_count": 181,
   "metadata": {},
   "outputs": [
    {
     "name": "stdout",
     "output_type": "stream",
     "text": [
      "['a', 'b', 'c', 'e', 'f', 'g', 'u', 'w', 'x']\n"
     ]
    }
   ],
   "source": [
    "array = ['f', 'a', 'c', 'g', 'u', 'b', 'w', 'x', 'e']\n",
    "insertion_sort(array)\n",
    "print(array)"
   ]
  },
  {
   "attachments": {},
   "cell_type": "markdown",
   "metadata": {},
   "source": [
    "#### **Problem 3: Dynamic Programming**"
   ]
  },
  {
   "cell_type": "code",
   "execution_count": 198,
   "metadata": {},
   "outputs": [],
   "source": [
    "class DynamicArray:\n",
    "    def __init__(self):\n",
    "        pass\n",
    "\n",
    "    def fibonacci(n):\n",
    "        array = [0, 1]   \n",
    "        for i in range(2, n):\n",
    "            array.append(array[i-1] + array[i-2])\n",
    "        return array[-1]"
   ]
  },
  {
   "cell_type": "code",
   "execution_count": 199,
   "metadata": {},
   "outputs": [
    {
     "data": {
      "text/plain": [
       "7778742049"
      ]
     },
     "execution_count": 199,
     "metadata": {},
     "output_type": "execute_result"
    }
   ],
   "source": [
    "fibonacci(50)"
   ]
  },
  {
   "cell_type": "code",
   "execution_count": 200,
   "metadata": {},
   "outputs": [
    {
     "data": {
      "text/plain": [
       "117669030460994"
      ]
     },
     "execution_count": 200,
     "metadata": {},
     "output_type": "execute_result"
    }
   ],
   "source": [
    "fibonacci(70)"
   ]
  },
  {
   "cell_type": "code",
   "execution_count": 201,
   "metadata": {},
   "outputs": [
    {
     "data": {
      "text/plain": [
       "218922995834555169026"
      ]
     },
     "execution_count": 201,
     "metadata": {},
     "output_type": "execute_result"
    }
   ],
   "source": [
    "fibonacci(100)"
   ]
  },
  {
   "attachments": {},
   "cell_type": "markdown",
   "metadata": {},
   "source": [
    "#### **Problem 4: Best Time To Buy And Sell Stock**"
   ]
  },
  {
   "cell_type": "code",
   "execution_count": 186,
   "metadata": {},
   "outputs": [],
   "source": [
    "def find_max(array):\n",
    "    flag = 0\n",
    "    for i in range(len(array)):\n",
    "        if array[i] > array[flag]:\n",
    "            flag = i\n",
    "    return array[flag]\n",
    "\n",
    "def best_profit(array):\n",
    "    length = len(array)\n",
    "    array_temp = []\n",
    "    for i in range(length-1, 0, -1):\n",
    "        for j in range(i-1, -1, -1):\n",
    "            array_temp.append(array[i] - array[j]) \n",
    "            \n",
    "    profit = find_max(array_temp)\n",
    "    if profit > 0:\n",
    "        return profit\n",
    "    else:\n",
    "        return 0"
   ]
  },
  {
   "cell_type": "code",
   "execution_count": 187,
   "metadata": {},
   "outputs": [
    {
     "data": {
      "text/plain": [
       "5"
      ]
     },
     "execution_count": 187,
     "metadata": {},
     "output_type": "execute_result"
    }
   ],
   "source": [
    "price = [7, 1, 5, 3, 6, 4]\n",
    "best_profit(price)"
   ]
  },
  {
   "cell_type": "code",
   "execution_count": 188,
   "metadata": {},
   "outputs": [
    {
     "data": {
      "text/plain": [
       "0"
      ]
     },
     "execution_count": 188,
     "metadata": {},
     "output_type": "execute_result"
    }
   ],
   "source": [
    "price = [7, 6, 4, 3, 1]\n",
    "best_profit(price)"
   ]
  },
  {
   "attachments": {},
   "cell_type": "markdown",
   "metadata": {},
   "source": [
    "#### **Problem 5: Caesar Cipher**"
   ]
  },
  {
   "cell_type": "code",
   "execution_count": 189,
   "metadata": {},
   "outputs": [],
   "source": [
    "import string"
   ]
  },
  {
   "cell_type": "code",
   "execution_count": 193,
   "metadata": {},
   "outputs": [],
   "source": [
    "class CaesarCipher():\n",
    "    def __init__(self, message):\n",
    "        self._message = message\n",
    "\n",
    "    def encode(self, shift):\n",
    "        \"\"\"Method takes in a string and return the encoding string in Caesar cipher.\"\"\"\n",
    "        alpha_lower = string.ascii_lowercase\n",
    "        alpha_upper = string.ascii_uppercase\n",
    "        result = \"\"\n",
    "        \n",
    "        for char in self._message:\n",
    "            if char in alpha_upper:\n",
    "                new_index = (alpha_upper.index(char) + shift) % 26\n",
    "                result += alpha_upper[new_index]\n",
    "            elif char in alpha_lower:\n",
    "                new_index = (alpha_lower.index(char) + shift) % 26\n",
    "                result += alpha_lower[new_index]\n",
    "            else:\n",
    "                result += char   \n",
    "\n",
    "        return result\n",
    "            \n",
    "    def decode(self, shift):\n",
    "        \"\"\"Methods takes in a Caesar cipher string and return the true string.\"\"\"\n",
    "        alpha_lower = string.ascii_lowercase\n",
    "        alpha_upper = string.ascii_uppercase\n",
    "        result = \" \"\n",
    "        \n",
    "        for char in self._message:\n",
    "            if char in alpha_upper:\n",
    "                new_index = (alpha_upper.index(char) - shift) % 26\n",
    "                result += alpha_upper[new_index]\n",
    "            elif char in alpha_lower:\n",
    "                new_index = (alpha_lower.index(char) - shift) % 26\n",
    "                result += alpha_lower[new_index]\n",
    "            else:\n",
    "                result += char    \n",
    "\n",
    "        return result\n"
   ]
  },
  {
   "cell_type": "code",
   "execution_count": 194,
   "metadata": {},
   "outputs": [
    {
     "name": "stdout",
     "output_type": "stream",
     "text": [
      "Lipps Hexe Wgmirgi\n",
      "Pigxyvi 4 Evvec\n"
     ]
    }
   ],
   "source": [
    "#Perform Caesar encryption for the following strings with shift parameter = 4:\n",
    "message = ['Hello Data Science', 'Lecture 4 Array']\n",
    "for i in message:\n",
    "    case1 = CaesarCipher(i)\n",
    "    result = case1.encode(4)\n",
    "    print(result)"
   ]
  },
  {
   "cell_type": "code",
   "execution_count": 195,
   "metadata": {},
   "outputs": [
    {
     "name": "stdout",
     "output_type": "stream",
     "text": [
      " Caesar Cipher a simple method.\n",
      " Congratulation, you finally finished this homework!\n"
     ]
    }
   ],
   "source": [
    "#Perform Caesar decryption for the following strings with shift parameter = 7:\n",
    "message = ['Jhlzhy Jpwoly h zptwsl tlaovk.', 'Jvunyhabshapvu, fvb mpuhssf mpupzolk aopz ovtldvyr!']\n",
    "for i in message:\n",
    "    case1 = CaesarCipher(i)\n",
    "    result = case1.decode(7)\n",
    "    print(result)"
   ]
  }
 ],
 "metadata": {
  "kernelspec": {
   "display_name": "Python 3",
   "language": "python",
   "name": "python3"
  },
  "language_info": {
   "codemirror_mode": {
    "name": "ipython",
    "version": 3
   },
   "file_extension": ".py",
   "mimetype": "text/x-python",
   "name": "python",
   "nbconvert_exporter": "python",
   "pygments_lexer": "ipython3",
   "version": "3.9.6"
  },
  "orig_nbformat": 4,
  "vscode": {
   "interpreter": {
    "hash": "31f2aee4e71d21fbe5cf8b01ff0e069b9275f58929596ceb00d14d90e3e16cd6"
   }
  }
 },
 "nbformat": 4,
 "nbformat_minor": 2
}
