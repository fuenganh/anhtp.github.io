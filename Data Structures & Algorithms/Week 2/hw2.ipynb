{
 "cells": [
  {
   "attachments": {},
   "cell_type": "markdown",
   "metadata": {},
   "source": [
    "- Full name: Trần Phương Anh\n",
    "- Student ID: 11219258\n",
    "- Class: DSEB63"
   ]
  },
  {
   "attachments": {},
   "cell_type": "markdown",
   "metadata": {},
   "source": [
    "### Problem 1: Algorithm Analysis Fundamentals"
   ]
  },
  {
   "attachments": {},
   "cell_type": "markdown",
   "metadata": {},
   "source": [
    "#### 1. How do you use Big O notation to analyze the time complexity of an algorithm? Why is Big O analysis important?\n",
    "\n",
    "The general step wise procedure for Big O runtime analysis is as follows:  \n",
    "- Figure out what the input is and what n represents.\n",
    "- Express the maximum number of operations, the algorithm performs in terms of n.\n",
    "- Eliminate all excluding the highest order terms.\n",
    "- Remove all the constant factors.\n",
    "\n",
    "Basically, this asymptotic notation is used to measure and compare the worst-case scenarios of algorithms theoretically. For any algorithm, the Big-O analysis should be straightforward as long as we correctly identify the operations that are dependent on n, the input size. \n",
    "\n",
    "\n",
    "Big O analysis is important because it help us to solve all the drawbacks of experimental analysis:\n",
    "- Allows us to evaluate the relative efficiency of any two algorithms in a way that is independent of the hardware and software environment.\n",
    "- Is performed by studying a high-level description of the algorithm without need for implementation.\n",
    "- Takes into account all possible inputs."
   ]
  },
  {
   "attachments": {},
   "cell_type": "markdown",
   "metadata": {},
   "source": [
    "\n",
    "#### 2. What a worst-case scenario is in the context of Big O Analysis? Is it necessary to calculate exact runtimes when analyzing algorithms with Big O notation? Why or why not?"
   ]
  },
  {
   "attachments": {},
   "cell_type": "markdown",
   "metadata": {},
   "source": [
    "Worst-case scenario in the context of Big O Analysis:\n",
    "- It gives an upper bound on the resources required by the algorithm. In the case of running time, the worst-case time complexity indicates the longest running time performed by an algorithm given any input of size n, and thus guarantees that the algorithm will finish in the indicated period of time.\n",
    "\n",
    "No, it's not necessary to calculate exact run times when analyzing algorithms with Big O notation.\n",
    "- Big O notation is a measure of the upper bound of an algorithm's runtime, and it provides a way to compare the efficiency of different algorithms without considering the specific hardware or other implementation details.\n",
    "- To analyze an algorithm using Big O notation, you only need to determine the function that describes the algorithm's runtime in terms of the size of the input (n). This function is called the \"time complexity\" of the algorithm.\n",
    "\n",
    "For example, if an algorithm has a time complexity of O(n), this means that the runtime of the algorithm grows linearly with the size of the input. If the time complexity is O(n^2), this means that the runtime grows as the square of the size of the input.\n",
    "\n",
    "- It is important to note that Big O notation only provides an upper bound on the runtime, so the actual runtime of an algorithm may be faster than the bound indicated by the Big O notation. However, it is a useful tool for comparing the relative efficiency of different algorithms and for identifying algorithms that may have unacceptable runtime performance for large inputs."
   ]
  },
  {
   "attachments": {},
   "cell_type": "markdown",
   "metadata": {},
   "source": [
    "\n",
    "#### 3. (Optional) What is your understanding of space complexity? Is it different from time complexity? If yes, then how? When would you choose a solution with a better space complexity over one with a better time complexity?"
   ]
  },
  {
   "attachments": {},
   "cell_type": "markdown",
   "metadata": {},
   "source": [
    "Space Complexity: \n",
    "- The space complexity of an algorithm is the amount of space (or memory) taken by the algorithm to run as a function of its input length, n. Space complexity includes both auxiliary space and space used by the input.\n",
    "\n",
    "Given the size of the input, how many steps will the algorithm need to perform before it gives an answer (assuming that it terminates)? This is the time complexity.\n",
    "\n",
    "Given the size of the input, how much storage does the algorithm need while working, i.e. performing all those steps? This is the space complexity.\n",
    "\n",
    "So, time and Space complexity are different aspects of calculating the efficiency of an algorithm.\n",
    "- Time complexity deals with finding out how the computational time of an algorithm changes with the change in size of the input.\n",
    "- On the other hand, space complexity deals with finding out how much (extra)space would be required by the algorithm with change in the input size."
   ]
  },
  {
   "attachments": {},
   "cell_type": "markdown",
   "metadata": {},
   "source": [
    "### Problem 2: Time Complexity"
   ]
  },
  {
   "attachments": {},
   "cell_type": "markdown",
   "metadata": {},
   "source": [
    "#### Algorithm 1:"
   ]
  },
  {
   "cell_type": "code",
   "execution_count": 11,
   "metadata": {},
   "outputs": [],
   "source": [
    "def deductOne(num):\n",
    "    num -= 1                    #1\n",
    "    return num                  #1"
   ]
  },
  {
   "attachments": {},
   "cell_type": "markdown",
   "metadata": {},
   "source": [
    "The time complexity: O(1)"
   ]
  },
  {
   "attachments": {},
   "cell_type": "markdown",
   "metadata": {},
   "source": [
    "#### Algorithm 2:"
   ]
  },
  {
   "cell_type": "code",
   "execution_count": 1,
   "metadata": {},
   "outputs": [],
   "source": [
    "def s(_list): \n",
    "    prefix_sum = 0              #1\n",
    "    for i in _list:             #n\n",
    "        prefix_sum += 1         #n\n",
    "    return prefix_sum           #1\n",
    "\n",
    " #total n + 2"
   ]
  },
  {
   "attachments": {},
   "cell_type": "markdown",
   "metadata": {},
   "source": [
    "The time complexity: O(n)"
   ]
  },
  {
   "attachments": {},
   "cell_type": "markdown",
   "metadata": {},
   "source": [
    "#### Algorithm 3:"
   ]
  },
  {
   "cell_type": "code",
   "execution_count": 13,
   "metadata": {},
   "outputs": [],
   "source": [
    "testList = [1 ,3, 4, 5, 61, 96, 69, 13, 22, 2001]                           #n = 9\n",
    "\n",
    "def al(testList):\n",
    "    for i in range(len(testList)):                                          #n \n",
    "        for j in range(i + 1, len(testList)):                               #(n-1)/2\n",
    "            if testList[j] < testList[i]:\n",
    "                testList[j], testList[i] = testList[i], testList[j]         #1\n",
    "    return testList                                                         #1"
   ]
  },
  {
   "attachments": {},
   "cell_type": "markdown",
   "metadata": {},
   "source": [
    "The time complexity: O(n^2)"
   ]
  },
  {
   "attachments": {},
   "cell_type": "markdown",
   "metadata": {},
   "source": [
    "#### Algorithm 4:"
   ]
  },
  {
   "cell_type": "code",
   "execution_count": 14,
   "metadata": {},
   "outputs": [],
   "source": [
    "a = 100\n",
    "N = 40\n",
    "\n",
    "def add(a, N):\n",
    "    for i in range(N):                  #n\n",
    "        a = a + 10\n",
    "    return a"
   ]
  },
  {
   "attachments": {},
   "cell_type": "markdown",
   "metadata": {},
   "source": [
    "The time complexity: O(n)"
   ]
  },
  {
   "attachments": {},
   "cell_type": "markdown",
   "metadata": {},
   "source": [
    "#### Algorithm 5:"
   ]
  },
  {
   "cell_type": "code",
   "execution_count": 15,
   "metadata": {},
   "outputs": [],
   "source": [
    "def count(A, B):\n",
    "    n = len(A)                          #2\n",
    "    count = 0\n",
    "    for i in range(n):                  #n\n",
    "        total = 0\n",
    "        for j in range(n):              #n\n",
    "            for k in range(1 + j):      #n\n",
    "                total += A[k]\n",
    "        if B[i] == total:               #2\n",
    "            count += 1\n",
    "    return count"
   ]
  },
  {
   "attachments": {},
   "cell_type": "markdown",
   "metadata": {},
   "source": [
    "The time complexity: O(n^3)"
   ]
  },
  {
   "attachments": {},
   "cell_type": "markdown",
   "metadata": {},
   "source": [
    "#### Algorithm 6:"
   ]
  },
  {
   "cell_type": "code",
   "execution_count": 16,
   "metadata": {},
   "outputs": [],
   "source": [
    "def fibo(n):\n",
    "    if n <= 1:\n",
    "        return n\n",
    "    return fibo(n - 1) + fibo(n - 2)"
   ]
  },
  {
   "attachments": {},
   "cell_type": "markdown",
   "metadata": {},
   "source": [
    "The time complexity: O(2^N)"
   ]
  },
  {
   "attachments": {},
   "cell_type": "markdown",
   "metadata": {},
   "source": [
    "### Problem 3: Binary Search"
   ]
  },
  {
   "cell_type": "code",
   "execution_count": 2,
   "metadata": {},
   "outputs": [],
   "source": [
    "import time"
   ]
  },
  {
   "cell_type": "code",
   "execution_count": 3,
   "metadata": {},
   "outputs": [],
   "source": [
    "def binary_search(a, num):\n",
    "    start = 0\n",
    "    end = len(a) - 1\n",
    "    while (start <= end):\n",
    "        mid = (start + end ) // 2\n",
    "        if a[mid] == num:\n",
    "            return mid\n",
    "        elif a[mid] > num:\n",
    "            end = mid -1 \n",
    "        else:\n",
    "            start = mid + 1\n",
    "    return 'Not found!'"
   ]
  },
  {
   "attachments": {},
   "cell_type": "markdown",
   "metadata": {},
   "source": [
    "#### List 1"
   ]
  },
  {
   "cell_type": "code",
   "execution_count": 8,
   "metadata": {},
   "outputs": [
    {
     "name": "stdout",
     "output_type": "stream",
     "text": [
      "Index:  Not found!\n",
      "Iteration time:  0.00010013580322265625\n"
     ]
    }
   ],
   "source": [
    "start = time.time()\n",
    "\n",
    "a = 5 \n",
    "list1 = [1, 2, 4, 6, 7, 9]\n",
    "\n",
    "print(\"Index: \", binary_search(list1, a))\n",
    "\n",
    "end = time.time()\n",
    "check = end - start\n",
    "print(\"Iteration time: \", check)"
   ]
  },
  {
   "attachments": {},
   "cell_type": "markdown",
   "metadata": {},
   "source": [
    "#### List 2"
   ]
  },
  {
   "cell_type": "code",
   "execution_count": 9,
   "metadata": {},
   "outputs": [
    {
     "name": "stdout",
     "output_type": "stream",
     "text": [
      "Index:  5\n",
      "Interation time:  0.00010704994201660156\n"
     ]
    }
   ],
   "source": [
    "start = time.time()\n",
    "\n",
    "a = \"f\"\n",
    "list2 = ['a', 'b', 'c', 'd', 'e', 'f', 'g', 'h', 'i', 'j', 'k', 'l', 'm', 'n', 'o', 'p', 'q', 'r', 's', 't', 'u', 'v', 'w', 'x', 'y', 'z']\n",
    "\n",
    "print(\"Index: \", binary_search(list2, a))\n",
    "\n",
    "end = time.time()\n",
    "check = end - start\n",
    "print(\"Interation time: \", check)"
   ]
  },
  {
   "attachments": {},
   "cell_type": "markdown",
   "metadata": {},
   "source": [
    "#### List 3"
   ]
  },
  {
   "cell_type": "code",
   "execution_count": 10,
   "metadata": {},
   "outputs": [
    {
     "name": "stdout",
     "output_type": "stream",
     "text": [
      "Index:  5\n",
      "Interation time:  0.00012421607971191406\n"
     ]
    }
   ],
   "source": [
    "start = time.time()\n",
    "\n",
    "a = 5\n",
    "list3 = [2, 1, 2163, -125, 1, 5, 7, 9, 6, 5, 3, 11, 22, 55, 88, 99, 111, 222, 555, 321, 653, 963, 654, 998, 651]\n",
    "\n",
    "print(\"Index: \", binary_search(list3, a))\n",
    "\n",
    "end = time.time()\n",
    "check = end - start\n",
    "print(\"Interation time: \", check)"
   ]
  },
  {
   "attachments": {},
   "cell_type": "markdown",
   "metadata": {},
   "source": [
    "List 4"
   ]
  },
  {
   "cell_type": "code",
   "execution_count": 12,
   "metadata": {},
   "outputs": [
    {
     "name": "stdout",
     "output_type": "stream",
     "text": [
      "Index:  6\n",
      "Interation time:  0.0001010894775390625\n"
     ]
    }
   ],
   "source": [
    "start = time.time()\n",
    "\n",
    "a = 'foo'\n",
    "list4 = ['aac', 'bac', 'cbaasc', 'duc', 'enk', 'fire', 'foo', 'hv', 'isg', 'loj', 'qwek', 'scsl', 'vfbgm', 'nig', 'go', 'prii', ' qqqq', 'kkree', 'lis', 'acst', 'qweu', 'vfsdv', 'wfefe', 'xsfed', 'yagr', 'zyz']\n",
    "\n",
    "print(\"Index: \", binary_search(list4, a))\n",
    "\n",
    "end = time.time()\n",
    "check = end - start\n",
    "print(\"Interation time: \", check)"
   ]
  }
 ],
 "metadata": {
  "kernelspec": {
   "display_name": "Python 3",
   "language": "python",
   "name": "python3"
  },
  "language_info": {
   "codemirror_mode": {
    "name": "ipython",
    "version": 3
   },
   "file_extension": ".py",
   "mimetype": "text/x-python",
   "name": "python",
   "nbconvert_exporter": "python",
   "pygments_lexer": "ipython3",
   "version": "3.9.6"
  },
  "orig_nbformat": 4,
  "vscode": {
   "interpreter": {
    "hash": "31f2aee4e71d21fbe5cf8b01ff0e069b9275f58929596ceb00d14d90e3e16cd6"
   }
  }
 },
 "nbformat": 4,
 "nbformat_minor": 2
}
