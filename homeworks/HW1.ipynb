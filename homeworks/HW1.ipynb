{
 "cells": [
  {
   "attachments": {},
   "cell_type": "markdown",
   "metadata": {},
   "source": [
    "Problem 1: OOP fundamentals\n",
    "\n",
    "Give the appropriate answers for the questions below:\n",
    "1. What are object-oriented design goals? Give brief explanations about them.\n",
    "\n",
    "Software implementations should achieve robustness, adaptability, and reusability:\n",
    "\n",
    "Robustness\n",
    "- handle unexpected input\n",
    "\n",
    "Adaptability\n",
    "- minimal change on different hardware and operating system platforms\n",
    "\n",
    "Reusability\n",
    "- reusable code in different applications.\n",
    "\n",
    "2. What are object-oriented design principles? Give brief explanations about them.\n",
    "\n",
    "Principles of the object-oriented approach:\n",
    "\n",
    "Modularity \n",
    "- refers to an organizing principle in which different components of a software system are divided into separate functional units.\n",
    "\n",
    "Abstraction\n",
    "- the notion of abstraction is to distill a complicated system down to its most funda-mental parts.\n",
    "\n",
    "Encapsulation\n",
    "- encapsulation yields robustness and adaptability, for it allows the implementation details of parts of a program to change without adversely affecting other parts, thereby making it easier to fix bugs or add new functionality with relatively local changes to a component\n",
    "\n",
    "3. How to choose names for a class, its member functions and class-level constants? \n",
    "\n",
    "Class\n",
    "- classes (other than Python’s built-in classes) should have a name that serves as a singular noun, and should be capitalized (e.g., Date rather than date or Dates). When multiple words are concatenated to form a class name, they should follow the so-called “CamelCase” convention in which the first letter of each word is capitalized (e.g., CreditCard).\n",
    "\n",
    "Member functions\n",
    "- member functions should be lowercase. If multiple words are combined, they should be separated by under scores (e.g., make_payment). The name of a function should typically be a verb that describes its affect. However, if the only purpose of the function is to return a value, the function name may be a noun that describes the value (e.g., sqrt rather than calculate_sqrt).\n",
    "\n",
    "Class-level constants\n",
    "- class-level constants are traditionally identified using all capital letters and with underscores to sep- arate words (e.g., MAX SIZE).\n",
    "\n",
    "4. What is docstring? What information does it provide?\n",
    "\n",
    "Docstring\n",
    "- Python provides integrated support for embedding formal documentation directly in source code using a mechanism known as a docstring.\n",
    "- It’s specified in source code that is used, like a comment, to document a specific segment of code. Unlike conventional source code comments, the docstring should describe what the function does, not how."
   ]
  },
  {
   "attachments": {},
   "cell_type": "markdown",
   "metadata": {},
   "source": [
    "Problem 2: Constructing a basic class"
   ]
  },
  {
   "cell_type": "code",
   "execution_count": 20,
   "metadata": {},
   "outputs": [],
   "source": [
    "class Car:\n",
    "    def __init__(self, brand, model, price, year):\n",
    "        self._brand = brand      #name of the car's brand \n",
    "        self._model = model      #name of the car's model\n",
    "        self._price = price      #price of the car\n",
    "        self._year = year        #year when the car was manufactured\n",
    "        \n",
    "    def get_brand(self):\n",
    "        return self._brand\n",
    "        \n",
    "    def get_model(self):\n",
    "        return self._model\n",
    "        \n",
    "    def get_year(self):\n",
    "        return self._year\n",
    "        \n",
    "    def get_price(self):\n",
    "        return self._price\n",
    "\n",
    "    def get_update(self, price):\n",
    "        self._price = price    \n",
    "        \n",
    "    def __repr__(self):\n",
    "        return f\"Car's brand is {self._brand}, model is {self._model}, price is ${self._price} and was launched in {self._year}.\""
   ]
  },
  {
   "cell_type": "code",
   "execution_count": 21,
   "metadata": {},
   "outputs": [
    {
     "name": "stdout",
     "output_type": "stream",
     "text": [
      "Car's brand is Lamborghini, model is Huracan STO, price is $367000 and was launched in 2021.\n",
      "\n",
      "Then, update the price of the car: \n",
      "Car's brand is Lamborghini, model is Huracan STO, price is $327.838 and was launched in 2021.\n"
     ]
    }
   ],
   "source": [
    "ex1 = Car('Lamborghini', 'Huracan STO', 367_000, 2021)\n",
    "print(repr(ex1))\n",
    "\n",
    "ex1.get_update(327.838)\n",
    "print(f\"\\nThen, update the price of the car: \")\n",
    "print(repr(ex1))"
   ]
  },
  {
   "attachments": {},
   "cell_type": "markdown",
   "metadata": {},
   "source": [
    "Problem 3: Class Inheritance"
   ]
  },
  {
   "cell_type": "code",
   "execution_count": 22,
   "metadata": {},
   "outputs": [],
   "source": [
    "class Person:\n",
    "    def __init__(self, name, id_person, age, gender):\n",
    "        self._name = name\n",
    "        self._id_person = id_person\n",
    "        self._age = age\n",
    "        self._gender = gender\n",
    "        \n",
    "    def get_name(self):\n",
    "        if self._name == type(str()):\n",
    "            return self._name\n",
    "        else:\n",
    "            raise Exception('Invalid! Only accepts input of string data type.')\n",
    "        \n",
    "    def get_id(self):\n",
    "        if self._id_person != type(int()) and self._id_person < 0:\n",
    "            raise Exception('Invalid! Only for positive integers.')\n",
    "        else:\n",
    "            return self._id_person\n",
    "        \n",
    "    def get_age(self):\n",
    "        if self._age > 0:\n",
    "            return self._age\n",
    "        else:\n",
    "            raise Exception('Invalid! Only for non-negative numbers.')\n",
    "        \n",
    "    def get_gender(self):\n",
    "        if self._gender == 'Male' or self._gender == 'Female':\n",
    "            return self._gender\n",
    "        else:\n",
    "            raise Exception('Invalid!')\n",
    "\n",
    "    def __repr__(self):\n",
    "        return f\"Name: {self._name}\\nID's person: {self._id_person}\\nAge: {self._age}\\nGender: {self._gender}\""
   ]
  },
  {
   "cell_type": "code",
   "execution_count": 23,
   "metadata": {},
   "outputs": [
    {
     "name": "stdout",
     "output_type": "stream",
     "text": [
      "Name: Tran Phuong Anh\n",
      "ID's person: 1121\n",
      "Age: 19\n",
      "Gender: Female\n"
     ]
    }
   ],
   "source": [
    "ex2 = Person('Tran Phuong Anh', 1121, 19, 'Female')\n",
    "print(repr(ex2))"
   ]
  },
  {
   "cell_type": "code",
   "execution_count": 24,
   "metadata": {},
   "outputs": [],
   "source": [
    " class Student(Person):\n",
    "    def __init__(self, name, id_person, age, gender, student_id, student_gpa):\n",
    "        super().__init__(name, id_person, age, gender)\n",
    "        self._student_id = student_id\n",
    "        self._student_gpa = student_gpa\n",
    "        \n",
    "    def get_studentID(self):   \n",
    "        if self._student_id == type(str()):\n",
    "            return self._student_id\n",
    "        else:\n",
    "            raise Exception('Invalid! Only accepts input of string data type.')         \n",
    "\n",
    "    def get_studentGPA(self):\n",
    "        if self._student_gpa >= 0 and self._student_gpa <= 10:\n",
    "            return self._student_gpa \n",
    "        else:\n",
    "            raise Exception('Invalid!')\n",
    "                       \n",
    "    def convert_gpa(self):\n",
    "        score = round(self._student_gpa, 1)             #round(number, digits) - làm tròn chữ số thập phân\n",
    "        if score >= 9:\n",
    "            letter_gr, grade = 'A+', 4.0\n",
    "        elif score >= 8.5:\n",
    "            letter_gr, grade = 'A', 4.0\n",
    "        elif score >= 8.0:\n",
    "            letter_gr, grade = 'B+', 3.5\n",
    "        elif score >= 7.0:\n",
    "            letter_gr, grade  = 'B', 3.0\n",
    "        elif score >= 6.5:\n",
    "            letter_gr, grade = 'C+', 2.5\n",
    "        elif score >= 5.5:\n",
    "            letter_gr, grade = 'C', 2.0\n",
    "        elif score >= 5.0:\n",
    "            letter_gr, grade = 'D+', 1.5\n",
    "        elif score >= 4.5:\n",
    "            letter_gr, grade = 'D', 1.0\n",
    "        else:\n",
    "            letter_gr, grade = 'F', 0.0\n",
    "        return f\"10.0 scale: {score}\\n4.0 Scale: {grade}\\nLetter grade: {letter_gr}\"\n",
    "\n",
    "    #ex4: overloading\n",
    "    def __call__(self, input_id, other):\n",
    "        if type(other) != list :\n",
    "            other = list(other)\n",
    "        if other : \n",
    "            for i in range(len(other)):\n",
    "                if input_id == other[i]._student_id:\n",
    "                    return f'ID is matched! Student information: \\n{other[i].__repr__()}'\n",
    "        return \"Not found the student!\""
   ]
  },
  {
   "cell_type": "code",
   "execution_count": 25,
   "metadata": {},
   "outputs": [
    {
     "name": "stdout",
     "output_type": "stream",
     "text": [
      "10.0 scale: 7.5\n",
      "4.0 Scale: 3.0\n",
      "Letter grade: B\n"
     ]
    }
   ],
   "source": [
    "std1 = Student('Tran Phuong Anh', 11219258, 19, 'Female', '1121NEU', 7.5)\n",
    "print(std1.convert_gpa())"
   ]
  },
  {
   "attachments": {},
   "cell_type": "markdown",
   "metadata": {},
   "source": [
    "Problem 4: Overloading"
   ]
  },
  {
   "cell_type": "code",
   "execution_count": 26,
   "metadata": {},
   "outputs": [
    {
     "name": "stdout",
     "output_type": "stream",
     "text": [
      "ID is matched! Student information: \n",
      "Name: Tran Phuong Linh\n",
      "ID's person: 11219333\n",
      "Age: 18\n",
      "Gender: Female\n",
      "Not found the student!\n",
      "Not found the student!\n"
     ]
    }
   ],
   "source": [
    "std2 = Student('Tran Phuong Linh', 11219333, 18, 'Female', '1121FTU', 6.4)\n",
    "std3 = Student('Nguyen Khanh Linh', 11219876, 19, 'Female', '1221FTU', 7.2)\n",
    "std4 = Student('Nguyen Viet Anh', 11219654, 20, 'Male', '1121VNU', 8.8)\n",
    "std5 = Student('Nguyen Duy Anh', 11219983, 19, 'Male', '1333FPT', 8.2)\n",
    "std_list = [std1, std2, std3, std4, std5]\n",
    "\n",
    "ex4 = std_list[0]\n",
    "\n",
    "print(ex4(\"1121FTU\", std_list))\n",
    "print(ex4(\"1234FTU\", std_list))   \n",
    "print(ex4(\"2312NEU\", std_list))    "
   ]
  }
 ],
 "metadata": {
  "kernelspec": {
   "display_name": "Python 3",
   "language": "python",
   "name": "python3"
  },
  "language_info": {
   "codemirror_mode": {
    "name": "ipython",
    "version": 3
   },
   "file_extension": ".py",
   "mimetype": "text/x-python",
   "name": "python",
   "nbconvert_exporter": "python",
   "pygments_lexer": "ipython3",
   "version": "3.9.6"
  },
  "orig_nbformat": 4,
  "vscode": {
   "interpreter": {
    "hash": "31f2aee4e71d21fbe5cf8b01ff0e069b9275f58929596ceb00d14d90e3e16cd6"
   }
  }
 },
 "nbformat": 4,
 "nbformat_minor": 2
}
