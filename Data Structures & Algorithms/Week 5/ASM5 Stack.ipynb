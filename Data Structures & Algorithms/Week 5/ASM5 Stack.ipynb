{
 "cells": [
  {
   "attachments": {},
   "cell_type": "markdown",
   "metadata": {},
   "source": [
    "- Full name: Trần Phương Anh\n",
    "- Student ID: 11219258\n",
    "- Class: DSEB63"
   ]
  },
  {
   "attachments": {},
   "cell_type": "markdown",
   "metadata": {},
   "source": [
    "#### **Problem 1: Constructing A Stack**"
   ]
  },
  {
   "cell_type": "code",
   "execution_count": 316,
   "metadata": {},
   "outputs": [],
   "source": [
    "class Stack:\n",
    "    \"\"\"LIFO Stack implementation using a Python list as underlying storage.\"\"\"\n",
    "\n",
    "    def __init__(self):\n",
    "        \"\"\"Create an empty stack.\"\"\"\n",
    "        self._array = []\n",
    "\n",
    "    def __len__(self):\n",
    "        \"\"\"Return the number of elements in the stack.\"\"\"\n",
    "        \n",
    "        return len(self._array)\n",
    "\n",
    "    def is_empty(self):\n",
    "        \"\"\"Return True if the stack is empty.\"\"\"\n",
    "        if len(self._array) == 0:\n",
    "            return True\n",
    "        \n",
    "        return False \n",
    "    \n",
    "    def __str__(self):\n",
    "        \"\"\"Return string representation of the Stack.\"\"\"\n",
    "        \n",
    "        return str(self._array)\n",
    "\n",
    "    def push(self, a):\n",
    "        \"\"\"Add element a to the top of the stack.\"\"\"\n",
    "        \n",
    "        return self._array.append(a)\n",
    "\n",
    "    def top(self):\n",
    "        \"\"\"Return (but do not remove) the element at the top of the stack.\"\"\"\n",
    "        if self.is_empty():\n",
    "            raise ValueError('Stack is empty')\n",
    "        \n",
    "        return self._array[-1]\n",
    "\n",
    "    def pop(self):\n",
    "        \"\"\"Remove and return the element from the top of the stack.\"\"\"\n",
    "        if self.is_empty():\n",
    "            raise ValueError('Stack is empty')\n",
    "        \n",
    "        return self._array.pop()\n",
    "\n",
    "    def move(self, other):\n",
    "        \"\"\"Move all the elements from stack A to an empty stack B without changing the order.\"\"\"\n",
    "        temp = Stack()\n",
    "        for i in range(len(self)):\n",
    "            temp.push(self._array.pop())\n",
    "        \n",
    "        for i in range(len(temp)):\n",
    "            other.push(temp.pop())\n",
    "        \n",
    "        return other._array\n",
    "    \n",
    "    def sort(self):\n",
    "        temp = Stack()\n",
    "\n",
    "        while len(self) > 0:\n",
    "            temp_value = self.pop()\n",
    "\n",
    "            while len(temp) > 0 and temp.top() < temp_value:\n",
    "                self.push(temp.pop())     \n",
    "\n",
    "            temp.push(temp_value)      \n",
    "\n",
    "        while temp:\n",
    "            self.push(temp.pop())\n",
    "        \n",
    "        return self"
   ]
  },
  {
   "cell_type": "code",
   "execution_count": 317,
   "metadata": {},
   "outputs": [
    {
     "name": "stdout",
     "output_type": "stream",
     "text": [
      "Stack A:  [4, 0, 1, 5, 9, 8, 2]\n",
      "Stack B:  [4, 0, 1, 5, 9, 8, 2]\n"
     ]
    }
   ],
   "source": [
    "S = Stack()\n",
    "T = Stack()\n",
    "\n",
    "list = [4, 0, 1, 5, 9, 8, 2]\n",
    "for element in list:\n",
    "    S.push(element)\n",
    "    \n",
    "print('Stack A: ', S)\n",
    "print('Stack B: ', S.move(T))"
   ]
  },
  {
   "cell_type": "code",
   "execution_count": 318,
   "metadata": {},
   "outputs": [
    {
     "name": "stdout",
     "output_type": "stream",
     "text": [
      "[0, 1, 2, 4, 5, 8, 9]\n"
     ]
    }
   ],
   "source": [
    "print(T.sort())"
   ]
  },
  {
   "attachments": {},
   "cell_type": "markdown",
   "metadata": {},
   "source": [
    "### **Problem 2: Converting numeral system**"
   ]
  },
  {
   "cell_type": "code",
   "execution_count": 319,
   "metadata": {},
   "outputs": [],
   "source": [
    "def convertDecimalToBinary(num):\n",
    "    stackTemp = Stack()\n",
    "    while(num != 0):\n",
    "        remainder = num % 2\n",
    "        num = num // 2\n",
    "        stackTemp.push(remainder)\n",
    "    # print(stackTemp)\n",
    "\n",
    "    result = \"\"\n",
    "    for i in range(len(stackTemp)):\n",
    "        result += str(stackTemp.pop())\n",
    "    \n",
    "    return int(result)"
   ]
  },
  {
   "cell_type": "code",
   "execution_count": 320,
   "metadata": {},
   "outputs": [
    {
     "data": {
      "text/plain": [
       "101"
      ]
     },
     "execution_count": 320,
     "metadata": {},
     "output_type": "execute_result"
    }
   ],
   "source": [
    "convertDecimalToBinary(5)"
   ]
  },
  {
   "cell_type": "code",
   "execution_count": 321,
   "metadata": {},
   "outputs": [],
   "source": [
    "def convertTernaryToDecimal(num):\n",
    "    num = str(num)\n",
    "    a = Stack()  \n",
    "    for i in num:\n",
    "        a.push(int(i))\n",
    "    i = 0 \n",
    "    sum_dec = 0\n",
    "    \n",
    "    while a.is_empty() == False:\n",
    "        sum_dec += pow(3, i) * a.pop()\n",
    "        i += 1\n",
    "    \n",
    "    return sum_dec      "
   ]
  },
  {
   "cell_type": "code",
   "execution_count": 322,
   "metadata": {},
   "outputs": [
    {
     "data": {
      "text/plain": [
       "10"
      ]
     },
     "execution_count": 322,
     "metadata": {},
     "output_type": "execute_result"
    }
   ],
   "source": [
    "convertTernaryToDecimal(101)"
   ]
  },
  {
   "cell_type": "code",
   "execution_count": 323,
   "metadata": {},
   "outputs": [],
   "source": [
    "def convertTernaryToBinary(num):\n",
    "    a = convertTernaryToDecimal(num)\n",
    "    b = convertDecimalToBinary(a)\n",
    "    return b"
   ]
  },
  {
   "cell_type": "code",
   "execution_count": 324,
   "metadata": {},
   "outputs": [
    {
     "data": {
      "text/plain": [
       "1001"
      ]
     },
     "execution_count": 324,
     "metadata": {},
     "output_type": "execute_result"
    }
   ],
   "source": [
    "convertTernaryToBinary(100)"
   ]
  },
  {
   "attachments": {},
   "cell_type": "markdown",
   "metadata": {},
   "source": [
    "### **Problem 3: Help Classmates**"
   ]
  },
  {
   "cell_type": "code",
   "execution_count": 328,
   "metadata": {},
   "outputs": [],
   "source": [
    "def help_classmate(mark):\n",
    "    help_mark = Stack()\n",
    "    \n",
    "    for i in range(len(mark)):\n",
    "        flag = 0\n",
    "        \n",
    "        for j in range(i+1, len(mark)):\n",
    "            if mark[j] < mark[i]:\n",
    "                flag = 1\n",
    "                break\n",
    "        \n",
    "        if flag == 1:\n",
    "            help_mark.push(mark[j])\n",
    "        else:\n",
    "            help_mark.push(-1)\n",
    "\n",
    "    return help_mark"
   ]
  },
  {
   "cell_type": "code",
   "execution_count": 329,
   "metadata": {},
   "outputs": [
    {
     "name": "stdout",
     "output_type": "stream",
     "text": [
      "[2, 5, 2, -1, -1]\n"
     ]
    }
   ],
   "source": [
    "marks = [3, 8, 5, 2, 9]\n",
    "print(help_classmate(marks))"
   ]
  },
  {
   "cell_type": "code",
   "execution_count": 330,
   "metadata": {},
   "outputs": [
    {
     "name": "stdout",
     "output_type": "stream",
     "text": [
      "[-1, -1, -1, -1, -1]\n"
     ]
    }
   ],
   "source": [
    "marks = [1, 2, 3, 4, 9]\n",
    "print(help_classmate(marks))"
   ]
  }
 ],
 "metadata": {
  "kernelspec": {
   "display_name": "Python 3",
   "language": "python",
   "name": "python3"
  },
  "language_info": {
   "codemirror_mode": {
    "name": "ipython",
    "version": 3
   },
   "file_extension": ".py",
   "mimetype": "text/x-python",
   "name": "python",
   "nbconvert_exporter": "python",
   "pygments_lexer": "ipython3",
   "version": "3.9.6"
  },
  "orig_nbformat": 4,
  "vscode": {
   "interpreter": {
    "hash": "31f2aee4e71d21fbe5cf8b01ff0e069b9275f58929596ceb00d14d90e3e16cd6"
   }
  }
 },
 "nbformat": 4,
 "nbformat_minor": 2
}
