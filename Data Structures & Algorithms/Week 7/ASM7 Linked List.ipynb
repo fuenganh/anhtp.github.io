{
 "cells": [
  {
   "attachments": {},
   "cell_type": "markdown",
   "metadata": {},
   "source": [
    "- Full name: Trần Phương Anh\n",
    "- Student ID: 11219258\n",
    "- Class: DSEB63"
   ]
  },
  {
   "attachments": {},
   "cell_type": "markdown",
   "metadata": {},
   "source": [
    "#### **Problem 1: Singly Linked List**"
   ]
  },
  {
   "attachments": {},
   "cell_type": "markdown",
   "metadata": {},
   "source": [
    "1.a. Implement a Node class and a SinglyLinkedList class storing multiple nodes."
   ]
  },
  {
   "cell_type": "code",
   "execution_count": 162,
   "metadata": {},
   "outputs": [],
   "source": [
    "class Node:\n",
    "    def __init__(self, val, next_node = None):\n",
    "        self.val = val\n",
    "        self.next_node = next_node"
   ]
  },
  {
   "cell_type": "code",
   "execution_count": 163,
   "metadata": {},
   "outputs": [],
   "source": [
    "class SinglyLinkedList():\n",
    "    \"\"\" Singly Linked List implementation. \"\"\"\n",
    "\n",
    "    def __init__(self):\n",
    "        \"\"\" Initialize a singly linked list object.\n",
    "        Attributes: head, size. \"\"\"\n",
    "\n",
    "        self.head = None\n",
    "        self.size = 0\n",
    "\n",
    "    def __len__(self):\n",
    "        \"\"\" Return the current number of nodes in the list. \"\"\"\n",
    "        return self.size\n",
    "\n",
    "    def is_empty(self):\n",
    "        \"\"\" Return True if the list is empty. \"\"\" \n",
    "        return self.size == 0\n",
    "\n",
    "    def __getitem__(self, k):\n",
    "        \"\"\" Return content in the k-th node of the list. \"\"\" \n",
    "\n",
    "        if self.is_empty():\n",
    "            raise Empty('Linked List is empty!')\n",
    "        \n",
    "        elif k > self.size or k < 0:\n",
    "            raise IndexError('The position of k-th node is NOT VALID!')\n",
    "        \n",
    "        else:\n",
    "            count = 0\n",
    "            current = self.head\n",
    "          \n",
    "            while current:\n",
    "                if count == k:\n",
    "                    return current.val\n",
    "                current = current.next_node\n",
    "                count += 1\n",
    "            \n",
    "    def insert(self, k, new_node):\n",
    "        \"\"\" Insert a new node to position k of the list.\n",
    "        If k = 0 or list is empty, insert a new head. \"\"\"\n",
    "\n",
    "        if k == 0 or self.is_empty():\n",
    "            self.head = Node(new_node, self.head)\n",
    "       \n",
    "        elif k < 0 or k > self.size:\n",
    "            raise IndexError('The position of k-th node is NOT VALID!')\n",
    "       \n",
    "        else:\n",
    "            count = 0\n",
    "            current = self.head\n",
    "            while current and count != k - 1:\n",
    "                current = current.next_node\n",
    "                count += 1\n",
    "            new_val = Node(new_node, current.next_node)\n",
    "            current.next_node = new_val\n",
    "        self.size += 1\n",
    "            \n",
    "\n",
    "    def __delitem__(self, k):\n",
    "        \"\"\" Delete node at position k of the list. Return the deleted node. \"\"\"\n",
    "       \n",
    "        if self.is_empty():\n",
    "            raise Empty('Linked List is empty!')\n",
    "        \n",
    "        elif k < 0 or k > self.size:\n",
    "            raise IndexError('The position of k-th node is NOT VALID!')\n",
    "        \n",
    "        else:\n",
    "            count = 0\n",
    "            current = self.head\n",
    "            while current:\n",
    "                if count == k - 1:\n",
    "                    current.next_node = current.next_node.next_node\n",
    "                    break\n",
    "                current = current.next_node\n",
    "                count += 1\n",
    "        self.size -= 1\n",
    "\n",
    "    def delete_by_value(self, val):\n",
    "        \"\"\" Delete all nodes that store the input value. Return all deleted nodes. \"\"\"\n",
    "        \n",
    "        if self.is_empty():\n",
    "            raise Empty('Linked List is empty!')\n",
    "        \n",
    "        delete_nodes = []\n",
    "        current = self.head\n",
    "        count = 0\n",
    "\n",
    "        if current.val == val:\n",
    "            delete_nodes.append((0, val))\n",
    "            self.head = self.head.next_node\n",
    "            self.size -= 1\n",
    "            count += 1\n",
    "\n",
    "            if self.is_empty():\n",
    "                return delete_nodes\n",
    "            \n",
    "        while current.next_node:\n",
    "            if current.next_node.val == val:\n",
    "                delete_nodes.append((count+1, val))\n",
    "                current.next_node = current.next_node.next_node\n",
    "                self.size -= 1\n",
    "            \n",
    "            else:\n",
    "                current = current.next_node\n",
    "            \n",
    "            count += 1\n",
    "        \n",
    "        if not delete_nodes:\n",
    "            raise Exception('The value needed to delete is not in the list!')\n",
    "        \n",
    "        return delete_nodes\n",
    "\n",
    "    def search(self, val):\n",
    "        \"\"\" Return the positions and contents of all nodes that store the input value. \n",
    "        Print a message if the value is not found. \"\"\" \n",
    "        \n",
    "        if self.is_empty():\n",
    "            raise Empty('Linked List is empty!')\n",
    "        \n",
    "        else:\n",
    "            count = 0\n",
    "            search_val = []\n",
    "            current = self.head\n",
    "\n",
    "            while current and current.next_node:\n",
    "                if current.val == val:\n",
    "                    search_val.append(count)\n",
    "                current = current.next_node\n",
    "                count += 1\n",
    "            \n",
    "            if not search_val:\n",
    "                return \"NOT FOUND\"    \n",
    "              \n",
    "            return search_val\n",
    "\n",
    "    def update(self, k, val):\n",
    "        \"\"\" Update content in the k-th node to new input value. \n",
    "        Print out the old and new updated values of the node. \"\"\" \n",
    "\n",
    "        if self.is_empty():\n",
    "            raise Empty('Linked List is empty!')\n",
    "        \n",
    "        elif k < 0 or k > self.size:\n",
    "            raise IndexError('The position of k-th node is NOT VALID!')\n",
    "        \n",
    "        else:\n",
    "            count = 0\n",
    "            current = self.head\n",
    "            while current:\n",
    "                if count == k:\n",
    "                    current.val = val\n",
    "                current = current.next_node\n",
    "                count += 1\n",
    "            \n",
    "    def __repr__(self):\n",
    "        \"\"\" Return string representation of the list. \"\"\" \n",
    "\n",
    "        current = self.head\n",
    "        while current:\n",
    "            print(current.val, end= ' ')\n",
    "            current = current.next_node\n",
    "        return \"\""
   ]
  },
  {
   "cell_type": "code",
   "execution_count": 164,
   "metadata": {},
   "outputs": [
    {
     "name": "stdout",
     "output_type": "stream",
     "text": [
      "T P A V U I V E \n"
     ]
    }
   ],
   "source": [
    "test = SinglyLinkedList()\n",
    "\n",
    "#Insert a new node to position k of the list\n",
    "test.insert(0, 'T')\n",
    "test.insert(1, 'P')\n",
    "test.insert(2, 'A')\n",
    "test.insert(3, 'V')\n",
    "test.insert(4, 'U')\n",
    "test.insert(5, 'I')\n",
    "test.insert(6, 'V')\n",
    "test.insert(7, 'E')\n",
    "\n",
    "print(test)"
   ]
  },
  {
   "cell_type": "code",
   "execution_count": 165,
   "metadata": {},
   "outputs": [
    {
     "name": "stdout",
     "output_type": "stream",
     "text": [
      "[(3, 'V'), (6, 'V')]\n",
      "T P A U I E \n"
     ]
    }
   ],
   "source": [
    "#Delete all nodes that store the input value. Return all deleted nodes\n",
    "print(test.delete_by_value('V'))\n",
    "print(test)"
   ]
  },
  {
   "cell_type": "code",
   "execution_count": 166,
   "metadata": {},
   "outputs": [
    {
     "name": "stdout",
     "output_type": "stream",
     "text": [
      "[1]\n",
      "NOT FOUND\n"
     ]
    }
   ],
   "source": [
    "#Return the positions and contents of all nodes that store the input value\n",
    "print(test.search('P'))\n",
    "print(test.search('F'))"
   ]
  },
  {
   "cell_type": "code",
   "execution_count": 167,
   "metadata": {},
   "outputs": [
    {
     "name": "stdout",
     "output_type": "stream",
     "text": [
      "T P A U I F \n"
     ]
    }
   ],
   "source": [
    "#Update content in the k-th node to new input value\n",
    "test.update(5, 'F')\n",
    "print(test)"
   ]
  },
  {
   "attachments": {},
   "cell_type": "markdown",
   "metadata": {},
   "source": [
    "1.b. Check your implementation by performing these tasks:"
   ]
  },
  {
   "attachments": {},
   "cell_type": "markdown",
   "metadata": {},
   "source": [
    "Create a Node object with attributes: name, score, class and next. Then create a SinglyLinkedList object to insert these students with their information into the list:"
   ]
  },
  {
   "cell_type": "code",
   "execution_count": 168,
   "metadata": {},
   "outputs": [],
   "source": [
    "class Node:\n",
    "    def __init__(self, name, score, major, next = None):\n",
    "        self.name = name\n",
    "        self.score = score\n",
    "        self.major = major\n",
    "        self.next = next"
   ]
  },
  {
   "cell_type": "code",
   "execution_count": 169,
   "metadata": {},
   "outputs": [],
   "source": [
    "class SinglyLinkedList():\n",
    "    def __init__(self):\n",
    "        self.head = None\n",
    "        self.size = 0\n",
    "\n",
    "    def is_empty(self):\n",
    "        return self.size == 0\n",
    "    \n",
    "    def __len__(self):\n",
    "        return self.size\n",
    "    \n",
    "    def insert(self, name, score, major, k):\n",
    "        if k > self.size or k < 0:\n",
    "            raise keyueError('I keyID POSITION')\n",
    "        \n",
    "        new_node = Node(name, score, major)\n",
    "        if k == 0:\n",
    "            new_node.next = self.head\n",
    "            self.head = new_node\n",
    "        \n",
    "        else:\n",
    "            count = 0\n",
    "            current = self.head\n",
    "\n",
    "            while current and count != k - 1:\n",
    "                current = current.next\n",
    "                count += 1\n",
    "            new_node.next = current.next\n",
    "            current.next = new_node\n",
    "        \n",
    "        self.size += 1\n",
    "\n",
    "    def delete_by_major(self, key):\n",
    "        if self.is_empty():\n",
    "                raise Empty(\"Linked List is empty!\")\n",
    "            \n",
    "        delete_key = []\n",
    "        current = self.head\n",
    "        count = 0 \n",
    "        \n",
    "        if current.major == key:\n",
    "            delete_key.append((0, current.name, current.score, current.major))\n",
    "            self.head = self.head.next\n",
    "            self.size -= 1\n",
    "            count += 1 \n",
    "\n",
    "            if self.is_empty():\n",
    "                return delete_key\n",
    "                \n",
    "            while current.next:\n",
    "                if current.next.major == key:\n",
    "                    delete_key.append((count, current.next.name, current.next.score, current.next.major))\n",
    "                    current.next = current.next.next\n",
    "                    self.size -= 1\n",
    "                \n",
    "                else:\n",
    "                    current = current.next\n",
    "                \n",
    "                count += 1\n",
    "            \n",
    "            if not delete_key:\n",
    "                raise Exception('NOT IN THE LIST')\n",
    "            return delete_key\n",
    "\n",
    "\n",
    "    def search_name(self, key):\n",
    "        if self.is_empty():\n",
    "            raise Empty('Linked List is empty!')\n",
    "\n",
    "        else:\n",
    "            count = 0\n",
    "            search_key = []\n",
    "            current = self.head\n",
    "            while current and current.next:\n",
    "\n",
    "                if current.name == key:\n",
    "                    search_key.append(count+1)\n",
    "                current = current.next\n",
    "                count += 1\n",
    "\n",
    "            if not search_key:\n",
    "                return \"The value needed to delete is not in the list!\"\n",
    "            return search_key\n",
    "\n",
    "    def update_score(self, stu, new_score):\n",
    "        if self.is_empty():\n",
    "            raise Empty('Linked List is empty!')\n",
    "        \n",
    "        else:\n",
    "            current = self.head\n",
    "            while current:\n",
    "                if current.name == stu:\n",
    "                    current.score += new_score\n",
    "                    break\n",
    "                current = current.next\n",
    "\n",
    "    def __repr__(self):\n",
    "        current = self.head\n",
    "        while current:\n",
    "            print(f\"({current.name}, {current.score}, {current.major})\", end='\\n')\n",
    "            current = current.next\n",
    "\n",
    "        return \"\""
   ]
  },
  {
   "cell_type": "code",
   "execution_count": 170,
   "metadata": {},
   "outputs": [
    {
     "name": "stdout",
     "output_type": "stream",
     "text": [
      "(Hai, 13.5, BFI)\n",
      "(Nam, 12, Actuary)\n",
      "(Vanh, 15, DSEB)\n",
      "(Ly, 10, TKT)\n",
      "(Chiu, 13, DSEB)\n",
      "(Bach, 16, DSEB)\n",
      "(Chau, 11, BFI)\n",
      "(Huy, 11, Actuary)\n",
      "\n"
     ]
    }
   ],
   "source": [
    "test = SinglyLinkedList()\n",
    "test.insert('Hai', 13.5, 'BFI', 0)\n",
    "test.insert('Nam', 12, 'Actuary', 1)\n",
    "test.insert('Vanh', 15, 'DSEB', 2)\n",
    "test.insert('Ly', 10, 'TKT', 3)\n",
    "test.insert('Chiu', 13, 'DSEB', 4)\n",
    "test.insert('Bach', 16, 'DSEB', 5)\n",
    "test.insert('Chau', 11, 'BFI', 6)\n",
    "test.insert('Huy', 11, 'Actuary', 7)\n",
    "\n",
    "print(test)"
   ]
  },
  {
   "attachments": {},
   "cell_type": "markdown",
   "metadata": {},
   "source": [
    "Insert Hoang who is in TKT class and has score 16 to position 3."
   ]
  },
  {
   "cell_type": "code",
   "execution_count": 171,
   "metadata": {},
   "outputs": [
    {
     "name": "stdout",
     "output_type": "stream",
     "text": [
      "(Hai, 13.5, BFI)\n",
      "(Nam, 12, Actuary)\n",
      "(Vanh, 15, DSEB)\n",
      "(Hoang, 16, AEP)\n",
      "(Ly, 10, TKT)\n",
      "(Chiu, 13, DSEB)\n",
      "(Bach, 16, DSEB)\n",
      "(Chau, 11, BFI)\n",
      "(Huy, 11, Actuary)\n",
      "\n"
     ]
    }
   ],
   "source": [
    "test.insert('Hoang', 16, 'AEP', 3)\n",
    "print(test)"
   ]
  },
  {
   "attachments": {},
   "cell_type": "markdown",
   "metadata": {},
   "source": [
    "Delete all students whose class is BFI."
   ]
  },
  {
   "cell_type": "code",
   "execution_count": 172,
   "metadata": {},
   "outputs": [
    {
     "name": "stdout",
     "output_type": "stream",
     "text": [
      "[(0, 'Hai', 13.5, 'BFI'), (7, 'Chau', 11, 'BFI')]\n"
     ]
    }
   ],
   "source": [
    "print(test.delete_by_major('BFI'))\n"
   ]
  },
  {
   "attachments": {},
   "cell_type": "markdown",
   "metadata": {},
   "source": [
    "Search for a student whose name is Vanh."
   ]
  },
  {
   "cell_type": "code",
   "execution_count": 173,
   "metadata": {},
   "outputs": [
    {
     "name": "stdout",
     "output_type": "stream",
     "text": [
      "[2]\n"
     ]
    }
   ],
   "source": [
    "print(test.search_name('Vanh'))"
   ]
  },
  {
   "attachments": {},
   "cell_type": "markdown",
   "metadata": {},
   "source": [
    "No surprised, Bach gave right answer for a hard question so Mr. Tuan decide to add 1 point to his current score. Update his score."
   ]
  },
  {
   "cell_type": "code",
   "execution_count": 174,
   "metadata": {},
   "outputs": [
    {
     "name": "stdout",
     "output_type": "stream",
     "text": [
      "(Nam, 12, Actuary)\n",
      "(Vanh, 15, DSEB)\n",
      "(Hoang, 16, AEP)\n",
      "(Ly, 10, TKT)\n",
      "(Chiu, 13, DSEB)\n",
      "(Bach, 17, DSEB)\n",
      "(Huy, 11, Actuary)\n",
      "\n"
     ]
    }
   ],
   "source": [
    "test.update_score('Bach', 1)\n",
    "print(test)"
   ]
  },
  {
   "attachments": {},
   "cell_type": "markdown",
   "metadata": {},
   "source": [
    "#### **Problem 2: Doubly Linked List**"
   ]
  },
  {
   "attachments": {},
   "cell_type": "markdown",
   "metadata": {},
   "source": [
    "2.a. Implement a DoublyLinkedList class storing multiple nodes."
   ]
  },
  {
   "cell_type": "code",
   "execution_count": 175,
   "metadata": {},
   "outputs": [],
   "source": [
    "class Node:\n",
    "    def __init__(self, element, next=None, last=None):\n",
    "        self.element = element\n",
    "        self.next = next\n",
    "        self.last = last"
   ]
  },
  {
   "cell_type": "code",
   "execution_count": 176,
   "metadata": {},
   "outputs": [],
   "source": [
    "class DoublyLinkedList:\n",
    "    \"\"\" Doubly Linked List implementation. \"\"\"\n",
    "\n",
    "    def __init__(self):\n",
    "        \"\"\" Initialize a doubly linked list object. \n",
    "        Attributes: head, size. \"\"\"\n",
    "        self.head = None\n",
    "        self.tail = None\n",
    "        self.size = 0\n",
    "\n",
    "    def __len__(self):\n",
    "        \"\"\" Return the current number of nodes in the list. \"\"\" \n",
    "        return self.size\n",
    "\n",
    "    def is_empty(self):\n",
    "        \"\"\" Return True if the list is empty. \"\"\"\n",
    "        return self.size == 0\n",
    "\n",
    "    def __getitem__(self, k):\n",
    "        \"\"\" Return content in the k-th node of the list. \"\"\" \n",
    "\n",
    "        if self.is_empty():\n",
    "            raise Empty('Linked List is empty!')\n",
    "        \n",
    "        elif k > self.size or k < 0:\n",
    "            raise IndexError('The position of k-th node is NOT VALID!')\n",
    "        \n",
    "        else:\n",
    "            count = 0\n",
    "            current = self.head\n",
    "            while current:\n",
    "                if count == k:\n",
    "                    return current.element\n",
    "                current = current.next\n",
    "                count += 1\n",
    "\n",
    "    def insert(self, k, value):\n",
    "        \"\"\" Insert a new node to position k of the list. If k = 0 or list is empty, insert a new head. \"\"\" \n",
    "        \n",
    "        if k > self.size or k < 0:\n",
    "            raise IndexError('The position of k-th node is NOT VALID!')\n",
    "\n",
    "        new_node = Node(value)\n",
    "        if self.is_empty() or k == 0:\n",
    "            new_node.next = self.head\n",
    "        \n",
    "            if self.head:\n",
    "                self.head.prev = new_node\n",
    "            self.head = new_node\n",
    "        \n",
    "        else:\n",
    "            current = self.head\n",
    "            \n",
    "            for item in range(k-1):\n",
    "                current = current.next\n",
    "            new_node.next = current.next\n",
    "            new_node.prev = current\n",
    "            \n",
    "            if current.next:\n",
    "                current.next.prev = new_node\n",
    "            current.next = new_node\n",
    "        \n",
    "        self.size += 1\n",
    "\n",
    "    def __delitem__(self, k):\n",
    "        # \"\"\" Delete node at position k of the list. Return the deleted node. \"\"\"\n",
    "\n",
    "        # if self.head == None:\n",
    "        #     raise Empty('Linked List is empty!')\n",
    "        \n",
    "        # elif k > self.size or k < 0:\n",
    "        #     raise IndexError('The position of k-th node is NOT VALID!')\n",
    "        \n",
    "        # elif k == 0:\n",
    "        pass\n",
    "\n",
    "    def reverse(self):\n",
    "        \"\"\" Reverse the list. \"\"\"\n",
    "        temp = None\n",
    "        current = self.head\n",
    "        while current:\n",
    "            temp = current.last\n",
    "            current.last = current.next\n",
    "            current.next = temp\n",
    "            current = current.last\n",
    "        \n",
    "        if temp:\n",
    "            self.head = temp.last\n",
    "\n",
    "    def sort_by_value(self):\n",
    "        \"\"\" Sort the list by values of nodes in descending order. \"\"\"\n",
    "        \n",
    "\n",
    "    def __repr__(self):\n",
    "        \"\"\" Return string representation of the list. \"\"\" \n",
    "        current = self.head\n",
    "        while current:\n",
    "            print(current.element, end=\"\\n\")\n",
    "            current = current.next\n",
    "        return \"\""
   ]
  },
  {
   "attachments": {},
   "cell_type": "markdown",
   "metadata": {},
   "source": [
    "2.b. Check your implementation by performing these tasks:\n"
   ]
  },
  {
   "attachments": {},
   "cell_type": "markdown",
   "metadata": {},
   "source": [
    "Create a DoublyLinkedList object and insert these stock codes into the list:"
   ]
  },
  {
   "cell_type": "code",
   "execution_count": 177,
   "metadata": {},
   "outputs": [
    {
     "name": "stdout",
     "output_type": "stream",
     "text": [
      "('VNM ', 100.6)\n",
      "('HPG ', 46.05)\n",
      "('GAS ', 94)\n",
      "('MSN ', 86.8)\n",
      "('FPT ', 75.7)\n",
      "('VIC ', 104.7)\n",
      "('VCB ', 94.3)\n",
      "('MWG ', 128.2)\n",
      "('PNJ ', 83.2)\n",
      "('DHG ', 98.6)\n",
      "\n"
     ]
    }
   ],
   "source": [
    "test = DoublyLinkedList()\n",
    "\n",
    "test.insert(0, ('VNM ', 100.6))\n",
    "test.insert(1, ('HPG ', 46.05))\n",
    "test.insert(2, ('GAS ', 94))\n",
    "test.insert(3, ('MSN ', 86.8))\n",
    "test.insert(4, ('FPT ', 75.7))\n",
    "test.insert(5, ('VIC ', 104.7))\n",
    "test.insert(6, ('VCB ', 94.3))\n",
    "test.insert(7, ('MWG ', 128.2))\n",
    "test.insert(8, ('PNJ ', 83.2))\n",
    "test.insert(9, ('DHG ', 98.6))\n",
    "\n",
    "print(test)"
   ]
  },
  {
   "attachments": {},
   "cell_type": "markdown",
   "metadata": {},
   "source": [
    "Delete all nodes whose stock prices are smaller than 80.\n"
   ]
  },
  {
   "cell_type": "code",
   "execution_count": null,
   "metadata": {},
   "outputs": [],
   "source": []
  },
  {
   "attachments": {},
   "cell_type": "markdown",
   "metadata": {},
   "source": [
    "Insert VJC with price 101.2 into position 3 of the list."
   ]
  },
  {
   "cell_type": "code",
   "execution_count": 178,
   "metadata": {},
   "outputs": [
    {
     "name": "stdout",
     "output_type": "stream",
     "text": [
      "('VNM ', 100.6)\n",
      "('HPG ', 46.05)\n",
      "('GAS ', 94)\n",
      "('VJC', 101.2)\n",
      "('MSN ', 86.8)\n",
      "('FPT ', 75.7)\n",
      "('VIC ', 104.7)\n",
      "('VCB ', 94.3)\n",
      "('MWG ', 128.2)\n",
      "('PNJ ', 83.2)\n",
      "('DHG ', 98.6)\n",
      "\n"
     ]
    }
   ],
   "source": [
    "test.insert(3, ('VJC', 101.2))\n",
    "print(test)"
   ]
  },
  {
   "attachments": {},
   "cell_type": "markdown",
   "metadata": {},
   "source": [
    "Print out the current list and its reversed order."
   ]
  },
  {
   "cell_type": "code",
   "execution_count": null,
   "metadata": {},
   "outputs": [],
   "source": []
  },
  {
   "attachments": {},
   "cell_type": "markdown",
   "metadata": {},
   "source": [
    "Print out the list sorted by stock price in from highest to lowest."
   ]
  },
  {
   "cell_type": "code",
   "execution_count": null,
   "metadata": {},
   "outputs": [],
   "source": []
  },
  {
   "attachments": {},
   "cell_type": "markdown",
   "metadata": {},
   "source": [
    "#### **Problem 3: Minimum and Maximum Element of A Linked Stack**"
   ]
  },
  {
   "cell_type": "code",
   "execution_count": 179,
   "metadata": {},
   "outputs": [],
   "source": [
    "class Node:\n",
    "    def __init__(self, element, next):\n",
    "        self.element = element\n",
    "        self.min_val = element\n",
    "        self.max_val = element\n",
    "        self.next = next"
   ]
  },
  {
   "cell_type": "code",
   "execution_count": 180,
   "metadata": {},
   "outputs": [],
   "source": [
    "class LinkedStack():\n",
    "    def __init__(self):\n",
    "        self.head = None\n",
    "        self.size = 0\n",
    "\n",
    "    def __len__(self):\n",
    "        return self.size\n",
    "    \n",
    "    def is_empty(self):\n",
    "        return self.size == 0\n",
    "    \n",
    "    def push(self, val):\n",
    "        if self.head == None:\n",
    "            self.head = Node(val, None)\n",
    "\n",
    "        else:\n",
    "            self.head = Node(val, self.head)\n",
    "            \n",
    "            if val < self.head.next.min_val:\n",
    "                self.head.min_val = val\n",
    "            \n",
    "            else:\n",
    "                self.head.min_val = self.head.next.min_val\n",
    "\n",
    "            if val > self.head.next.max_val:\n",
    "                self.head.max_val = val\n",
    "            \n",
    "            else:\n",
    "                self.head.max_val = self.head.next.max_val\n",
    "        \n",
    "        self.size += 1\n",
    "            # new_node = Node(val, min(val, self.head.min_val), max(val, self.head.max_val))\n",
    "            # new_node.next = self.head\n",
    "            # self.head = new_node \n",
    "\n",
    "    def top(self):\n",
    "        if self.head == None:\n",
    "            raise Empty('Stack is empty')\n",
    "\n",
    "        return self.head.element\n",
    "\n",
    "    def pop(self):\n",
    "        if self.head == None:\n",
    "            raise Empty('Stack is empty')\n",
    "\n",
    "        else:\n",
    "            element = self.head.element\n",
    "            self.head = self.head.next\n",
    "            self.size -= 1\n",
    "\n",
    "            return element\n",
    "        \n",
    "    def get_min(self):\n",
    "        if self.head == None:\n",
    "            raise Empty('Stack is empty')\n",
    " \n",
    "        return self.head.min_val\n",
    "    \n",
    "    def get_max(self):\n",
    "        if self.head == None:\n",
    "            raise Empty('Stack is empty')\n",
    " \n",
    "        return self.head.max_val"
   ]
  },
  {
   "cell_type": "code",
   "execution_count": 181,
   "metadata": {},
   "outputs": [],
   "source": [
    "test = LinkedStack()\n",
    "\n",
    "test.push(23)\n",
    "test.push(20)\n",
    "test.push(25)\n",
    "test.push(11)\n",
    "test.push(2)"
   ]
  },
  {
   "cell_type": "code",
   "execution_count": 182,
   "metadata": {},
   "outputs": [
    {
     "name": "stdout",
     "output_type": "stream",
     "text": [
      "Minimum value:  2\n",
      "Maximum value:  25\n"
     ]
    }
   ],
   "source": [
    "#get min_val\n",
    "min = test.get_min()\n",
    "print(\"Minimum value: \", min)  \n",
    "\n",
    "#get max_val\n",
    "max = test.get_max()\n",
    "print(\"Maximum value: \", max) "
   ]
  },
  {
   "cell_type": "code",
   "execution_count": 183,
   "metadata": {},
   "outputs": [
    {
     "name": "stdout",
     "output_type": "stream",
     "text": [
      "Popped value:  2\n"
     ]
    }
   ],
   "source": [
    "#pop the top element in the linkedlist\n",
    "pop = test.pop()\n",
    "print(\"Popped value: \", pop)  "
   ]
  },
  {
   "cell_type": "code",
   "execution_count": 184,
   "metadata": {},
   "outputs": [
    {
     "name": "stdout",
     "output_type": "stream",
     "text": [
      "\n",
      "Minimum value:  11\n",
      "Maximum value:  25\n"
     ]
    }
   ],
   "source": [
    "#get min_val\n",
    "min = test.get_min()\n",
    "print(\"\\nMinimum value: \", min)  \n",
    "\n",
    "#get max_val\n",
    "max = test.get_max()\n",
    "print(\"Maximum value: \", max)  "
   ]
  },
  {
   "attachments": {},
   "cell_type": "markdown",
   "metadata": {},
   "source": [
    "#### **Optional Problem: Palindrome Linked List**"
   ]
  }
 ],
 "metadata": {
  "kernelspec": {
   "display_name": "Python 3",
   "language": "python",
   "name": "python3"
  },
  "language_info": {
   "codemirror_mode": {
    "name": "ipython",
    "version": 3
   },
   "file_extension": ".py",
   "mimetype": "text/x-python",
   "name": "python",
   "nbconvert_exporter": "python",
   "pygments_lexer": "ipython3",
   "version": "3.9.6"
  },
  "orig_nbformat": 4,
  "vscode": {
   "interpreter": {
    "hash": "31f2aee4e71d21fbe5cf8b01ff0e069b9275f58929596ceb00d14d90e3e16cd6"
   }
  }
 },
 "nbformat": 4,
 "nbformat_minor": 2
}
