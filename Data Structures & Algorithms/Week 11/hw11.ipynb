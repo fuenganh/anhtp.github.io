{
 "cells": [
  {
   "attachments": {},
   "cell_type": "markdown",
   "metadata": {},
   "source": [
    "- Full name: Trần Phương Anh\n",
    "- Student ID: 11219258\n",
    "- Class: DSEB63"
   ]
  },
  {
   "attachments": {},
   "cell_type": "markdown",
   "metadata": {},
   "source": [
    "#### **Problem 1: Separate Chaining method**"
   ]
  },
  {
   "cell_type": "code",
   "execution_count": 147,
   "metadata": {},
   "outputs": [],
   "source": [
    "class Node:\n",
    "    def __init__(self, data, next=None):\n",
    "        self.data = data\n",
    "        self.next = next\n",
    "\n",
    "    def __repr__(self):\n",
    "        return str(self.data)"
   ]
  },
  {
   "cell_type": "code",
   "execution_count": 151,
   "metadata": {},
   "outputs": [],
   "source": [
    "class SepChainHash:\n",
    "    def __init__(self, size):\n",
    "        self.size  = size\n",
    "        self.tab = [None] * size\n",
    "        \n",
    "    def hash(self, key):\n",
    "        return hash(key) % self.size\n",
    "    \n",
    "    def add(self, key, value):\n",
    "        index = self.hash(key)\n",
    "        node  = self.tab[index]\n",
    "       \n",
    "        if node == None:\n",
    "            self.tab[index] = Node((key, value))\n",
    "            return\n",
    "        \n",
    "        while node.next != None:\n",
    "            if node.data[0] == key:\n",
    "                node.data = (key, value)\n",
    "                return\n",
    "            node = node.next\n",
    "\n",
    "        if node.data[0] == key:\n",
    "            node.data = (key, value)\n",
    "\n",
    "        else:\n",
    "            node.next = Node((key, value))\n",
    "        \n",
    "    def __getitem__(self, key):\n",
    "        index = self.hash(key)\n",
    "        node  = self.tab[index]\n",
    "        \n",
    "        while node != None:\n",
    "            if node.data[0] == key:\n",
    "                return node.data[1]\n",
    "            node = node.next\n",
    "        raise KeyError(f\"Key {key} is not in hash table!\")\n",
    "        \n",
    "    def delete(self, key):\n",
    "        pass\n",
    "    \n",
    "    def __repr__(self):\n",
    "        temp = []\n",
    "        for i in range(self.size):\n",
    "            temp.append(f\"[{i}]: \")\n",
    "            if not self.tab[i]:\n",
    "                temp.append(\"None\")\n",
    "            else:\n",
    "                node = self.tab[i]\n",
    "            while node != None:\n",
    "                temp.append(f\"{node.data}\")\n",
    "                node = node.next\n",
    "            temp.append(\"\\n\")\n",
    "        return \"\".join(temp)"
   ]
  },
  {
   "cell_type": "code",
   "execution_count": 152,
   "metadata": {},
   "outputs": [
    {
     "name": "stdout",
     "output_type": "stream",
     "text": [
      "[0]: (10, 'r')\n",
      "[1]: (6, 'p')(1, 'b')\n",
      "[2]: (12, 'h')(2, 'n')\n",
      "[3]: None\n",
      "[4]: (4, 's')\n",
      "\n"
     ]
    }
   ],
   "source": [
    "check_ex1 = SepChainHash(5)\n",
    "check_ex1.add(6, 'a')\n",
    "check_ex1.add(1, 'b')\n",
    "check_ex1.add(12, 'h')\n",
    "check_ex1.add(10, 'r')\n",
    "check_ex1.add(6, 'p')\n",
    "check_ex1.add(4, 's')\n",
    "check_ex1.add(2, 'n')\n",
    "print(check_ex1)"
   ]
  },
  {
   "cell_type": "code",
   "execution_count": 153,
   "metadata": {},
   "outputs": [
    {
     "ename": "KeyError",
     "evalue": "'Key 9 is not in hash table!'",
     "output_type": "error",
     "traceback": [
      "\u001b[0;31m---------------------------------------------------------------------------\u001b[0m",
      "\u001b[0;31mKeyError\u001b[0m                                  Traceback (most recent call last)",
      "Cell \u001b[0;32mIn[153], line 1\u001b[0m\n\u001b[0;32m----> 1\u001b[0m \u001b[39mprint\u001b[39m(check_ex1[\u001b[39m9\u001b[39;49m])\n",
      "Cell \u001b[0;32mIn[151], line 37\u001b[0m, in \u001b[0;36mSepChainHash.__getitem__\u001b[0;34m(self, key)\u001b[0m\n\u001b[1;32m     35\u001b[0m         \u001b[39mreturn\u001b[39;00m node\u001b[39m.\u001b[39mdata[\u001b[39m1\u001b[39m]\n\u001b[1;32m     36\u001b[0m     node \u001b[39m=\u001b[39m node\u001b[39m.\u001b[39mnext\n\u001b[0;32m---> 37\u001b[0m \u001b[39mraise\u001b[39;00m \u001b[39mKeyError\u001b[39;00m(\u001b[39mf\u001b[39m\u001b[39m\"\u001b[39m\u001b[39mKey \u001b[39m\u001b[39m{\u001b[39;00mkey\u001b[39m}\u001b[39;00m\u001b[39m is not in hash table!\u001b[39m\u001b[39m\"\u001b[39m)\n",
      "\u001b[0;31mKeyError\u001b[0m: 'Key 9 is not in hash table!'"
     ]
    }
   ],
   "source": [
    "print(check_ex1[9])"
   ]
  },
  {
   "cell_type": "code",
   "execution_count": 154,
   "metadata": {},
   "outputs": [
    {
     "name": "stdout",
     "output_type": "stream",
     "text": [
      "s\n"
     ]
    }
   ],
   "source": [
    "print(check_ex1[4])"
   ]
  },
  {
   "cell_type": "code",
   "execution_count": 155,
   "metadata": {},
   "outputs": [
    {
     "name": "stdout",
     "output_type": "stream",
     "text": [
      "[0]: (10, 'r')\n",
      "[1]: (6, 'p')(1, 'b')\n",
      "[2]: (12, 'h')(2, 'n')\n",
      "[3]: None\n",
      "[4]: (4, 's')\n",
      "\n"
     ]
    }
   ],
   "source": [
    "check_ex1.delete(6)\n",
    "print(check_ex1)"
   ]
  },
  {
   "attachments": {},
   "cell_type": "markdown",
   "metadata": {},
   "source": [
    "#### **Problem 2: Linear Probing method**"
   ]
  },
  {
   "cell_type": "code",
   "execution_count": null,
   "metadata": {},
   "outputs": [],
   "source": [
    "class LinProbHash:\n",
    "    def __init__(self, size):\n",
    "        pass\n",
    "\n",
    "    def hash(self, key):\n",
    "        return hash(key) % self.size\n",
    "\n",
    "    def add(self, key, value):\n",
    "        pass\n",
    "\n",
    "    def get(self, key):\n",
    "        pass\n",
    "\n",
    "    def delete(self, key):\n",
    "        pass\n",
    "\n",
    "    def __repr__(self):\n",
    "        pass"
   ]
  },
  {
   "cell_type": "code",
   "execution_count": null,
   "metadata": {},
   "outputs": [],
   "source": [
    "check_ex2 = LinProbHash(8)\n",
    "\n",
    "check_ex2.add(6, 's')\n",
    "check_ex2.add(3, 'd')\n",
    "check_ex2.add(11, 'a')\n",
    "check_ex2.add(19, 'p')\n",
    "check_ex2.add(8, 'd')\n",
    "check_ex2.add(14, 'q')\n",
    "check_ex2.add(21, 'j')"
   ]
  },
  {
   "cell_type": "code",
   "execution_count": null,
   "metadata": {},
   "outputs": [],
   "source": [
    "check_ex2.delete(11)\n",
    "check_ex2.delete(3)\n"
   ]
  },
  {
   "cell_type": "code",
   "execution_count": null,
   "metadata": {},
   "outputs": [],
   "source": [
    "check_ex2.add(16, 'l')\n",
    "check_ex2.add(0, 'o')\n",
    "check_ex2.add(9, 'a')"
   ]
  },
  {
   "cell_type": "code",
   "execution_count": null,
   "metadata": {},
   "outputs": [],
   "source": [
    "check_ex2.delete(8)"
   ]
  }
 ],
 "metadata": {
  "kernelspec": {
   "display_name": "Python 3",
   "language": "python",
   "name": "python3"
  },
  "language_info": {
   "codemirror_mode": {
    "name": "ipython",
    "version": 3
   },
   "file_extension": ".py",
   "mimetype": "text/x-python",
   "name": "python",
   "nbconvert_exporter": "python",
   "pygments_lexer": "ipython3",
   "version": "3.9.6"
  },
  "orig_nbformat": 4,
  "vscode": {
   "interpreter": {
    "hash": "31f2aee4e71d21fbe5cf8b01ff0e069b9275f58929596ceb00d14d90e3e16cd6"
   }
  }
 },
 "nbformat": 4,
 "nbformat_minor": 2
}
