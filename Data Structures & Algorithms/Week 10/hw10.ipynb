{
 "cells": [
  {
   "attachments": {},
   "cell_type": "markdown",
   "metadata": {},
   "source": [
    "- Full name: Trần Phương Anh\n",
    "- Student ID: 11219258\n",
    "- Class: DSEB63"
   ]
  },
  {
   "attachments": {},
   "cell_type": "markdown",
   "metadata": {},
   "source": [
    "#### **Problem 1: Contruct a Min Binary Heap**"
   ]
  },
  {
   "cell_type": "code",
   "execution_count": 138,
   "metadata": {},
   "outputs": [],
   "source": [
    "class IndexError(Exception):\n",
    "    pass"
   ]
  },
  {
   "cell_type": "code",
   "execution_count": 139,
   "metadata": {},
   "outputs": [],
   "source": [
    "class Item:\n",
    "    \"\"\"Item in Heap\"\"\"\n",
    "    def __init__(self, key, value):\n",
    "        self.key = key\n",
    "        self.value = value\n",
    "\n",
    "    def __lt__(self, other):\n",
    "        return self.key < other.key\n",
    "\n",
    "    def __gt__(self, other):\n",
    "        return self.key > other.key\n",
    "\n",
    "    def __eq__(self, other):\n",
    "        return self.key == other.key\n",
    "    \n",
    "    def __repr__(self):\n",
    "        return '{}:{}'.format(self.key, self.value)"
   ]
  },
  {
   "cell_type": "code",
   "execution_count": 140,
   "metadata": {},
   "outputs": [],
   "source": [
    "class MinHeap:\n",
    "    def __init__(self):\n",
    "        self._data = []\n",
    "\n",
    "    def __len__(self):\n",
    "        return len(self._data)\n",
    "    \n",
    "    def is_empty(self):\n",
    "        return len(self._data) == 0\n",
    "    \n",
    "    def _parent(self, k):\n",
    "        \"\"\"Returns index of item k's parent in self._data\"\"\"\n",
    "        return (k - 1) // 2\n",
    "    \n",
    "    def _left(self, k):\n",
    "        \"\"\"Return index of the left child of item k in the heap\"\"\"\n",
    "        return (2 * k) + 1\n",
    "\n",
    "    def _right(self, k):\n",
    "        \"\"\"Return index of the right child of item k in the heap\"\"\"\n",
    "        return (2 * k) + 2\n",
    "    \n",
    "    def _has_left(self, k):\n",
    "        \"\"\"Returns True if item k has a left child in the heap, False otherwise\"\"\"\n",
    "        return (2 * k) + 1 < len(self._data)\n",
    "\n",
    "    def _has_right(self, k):\n",
    "        \"\"\"Returns True if item k has a right child in the heap, False otherwise\"\"\"\n",
    "        return (2 * k) + 2 < len(self._data)\n",
    "        \n",
    "    def check_duplicate(self, item):\n",
    "        #Check if new item's key is duplicated?\n",
    "        for i in range(len(self._data)):\n",
    "            flag = 0 \n",
    "            \n",
    "            while self._data[i] == item:\n",
    "                flag = 1\n",
    "                if flag == 1: \n",
    "                    item.key = int(input(f\"{item.key}:{item.value} has existed in the heap. Please update the new key's item: \"))\n",
    "                else:\n",
    "                    break         \n",
    "\n",
    "    def add_new(self, item):\n",
    "        self.check_duplicate(item)\n",
    "        self._data.append(item)\n",
    "        item_index = len(self) - 1\n",
    "        \n",
    "        while True:\n",
    "            par_index = self._parent(item_index)\n",
    "            \n",
    "            if self._data[item_index].key < self._data[par_index].key and par_index >= 0:\n",
    "                self._data[item_index], self._data[par_index] = self._data[par_index], self._data[item_index]\n",
    "                item_index = par_index\n",
    "            else:\n",
    "                break\n",
    "\n",
    "    def get_min(self):\n",
    "        \"\"\"Return the item with minimum key in the heap\"\"\"\n",
    "        if self.is_empty():\n",
    "            raise IndexError(\"Heap is empty!\")\n",
    "        else:\n",
    "            return self._data[0]\n",
    "\n",
    "    def remove_min(self):\n",
    "        \"\"\"Remove the item with minimum key in the heap\"\"\"\n",
    "        if self.is_empty():\n",
    "            raise IndexError(\"Heap is empty!\")\n",
    "        \n",
    "        min_item = self._data[0]\n",
    "        last_item = self._data.pop()\n",
    "\n",
    "        if len(self._data) > 0:\n",
    "            self._data[0] = last_item\n",
    "            k = 0\n",
    "\n",
    "            while self._has_left(k) and self._has_right(k):\n",
    "                left_index = self._left(k)\n",
    "                right_index = self._right(k)\n",
    "                \n",
    "                if self._data[right_index].key < self._data[left_index].key:\n",
    "                    child_index = right_index\n",
    "                else:\n",
    "                    child_index = left_index\n",
    "\n",
    "                if self._data[child_index].key >= self._data[k].key:\n",
    "                    break\n",
    "\n",
    "                self._data[k], self._data[child_index] = self._data[child_index], self._data[k]\n",
    "                k = child_index\n",
    "    \n",
    "    def max_heap_sort(self):\n",
    "        \"\"\"Sort the current min heap to a max heap\"\"\"\n",
    "        pass\n",
    "\n",
    "    def __repr__(self):\n",
    "        str_data = [str(item) for item in self._data]\n",
    "        return ', '.join(str_data)\n"
   ]
  },
  {
   "cell_type": "code",
   "execution_count": 141,
   "metadata": {},
   "outputs": [],
   "source": [
    "a1 = Item(2, 'E')\n",
    "a2 = Item(7, 'A')\n",
    "a3 = Item(5, 'S')\n",
    "a4 = Item(1, 'S')\n",
    "a5 = Item(0, 'D')\n",
    "a6 = Item(8, 'U')\n",
    "a7 = Item(9, 'B')\n",
    "a8 = Item(4, 'B')\n",
    "a9 = Item(10, 'A')\n",
    "a10 = Item(5, 'J')"
   ]
  },
  {
   "cell_type": "code",
   "execution_count": 142,
   "metadata": {},
   "outputs": [
    {
     "name": "stdout",
     "output_type": "stream",
     "text": [
      "0:D, 1:S, 5:S, 4:B, 2:E, 8:U, 9:B, 7:A, 10:A\n"
     ]
    }
   ],
   "source": [
    "check = MinHeap()\n",
    "check.add_new(a1)\n",
    "check.add_new(a2)\n",
    "check.add_new(a3)\n",
    "check.add_new(a4)\n",
    "check.add_new(a5)\n",
    "check.add_new(a6)\n",
    "check.add_new(a7)\n",
    "check.add_new(a8)\n",
    "check.add_new(a9)\n",
    "print(check)"
   ]
  },
  {
   "cell_type": "code",
   "execution_count": 143,
   "metadata": {},
   "outputs": [
    {
     "name": "stdout",
     "output_type": "stream",
     "text": [
      "2:E, 4:B, 5:S, 7:A, 10:A, 8:U, 9:B\n"
     ]
    }
   ],
   "source": [
    "check.remove_min()\n",
    "check.remove_min()\n",
    "print(check)"
   ]
  },
  {
   "cell_type": "code",
   "execution_count": 144,
   "metadata": {},
   "outputs": [
    {
     "name": "stdout",
     "output_type": "stream",
     "text": [
      "2:E, 4:B, 5:S, 7:A, 10:A, 8:U, 9:B, 12:J\n"
     ]
    }
   ],
   "source": [
    "check.add_new(a10)\n",
    "#update 5 -> 12\n",
    "print(check)"
   ]
  },
  {
   "attachments": {},
   "cell_type": "markdown",
   "metadata": {},
   "source": [
    "### **Problem 2: Median of A Numeric Array**"
   ]
  },
  {
   "cell_type": "markdown",
   "metadata": {},
   "source": []
  }
 ],
 "metadata": {
  "kernelspec": {
   "display_name": "Python 3",
   "language": "python",
   "name": "python3"
  },
  "language_info": {
   "codemirror_mode": {
    "name": "ipython",
    "version": 3
   },
   "file_extension": ".py",
   "mimetype": "text/x-python",
   "name": "python",
   "nbconvert_exporter": "python",
   "pygments_lexer": "ipython3",
   "version": "3.9.6"
  },
  "orig_nbformat": 4,
  "vscode": {
   "interpreter": {
    "hash": "31f2aee4e71d21fbe5cf8b01ff0e069b9275f58929596ceb00d14d90e3e16cd6"
   }
  }
 },
 "nbformat": 4,
 "nbformat_minor": 2
}
