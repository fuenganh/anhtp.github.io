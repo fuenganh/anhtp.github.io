{
 "cells": [
  {
   "attachments": {},
   "cell_type": "markdown",
   "metadata": {},
   "source": [
    "- Full name: Trần Phương Anh\n",
    "- Student ID: 11219258\n",
    "- Class: DSEB63"
   ]
  },
  {
   "attachments": {},
   "cell_type": "markdown",
   "metadata": {},
   "source": [
    "#### **Problem 1: Tree Traversal Algorithms Implementation**"
   ]
  },
  {
   "cell_type": "code",
   "execution_count": 458,
   "metadata": {},
   "outputs": [],
   "source": [
    "class Error(Exception):\n",
    "    pass\n",
    "\n",
    "class Empty(Exception):\n",
    "    pass"
   ]
  },
  {
   "cell_type": "code",
   "execution_count": 459,
   "metadata": {},
   "outputs": [],
   "source": [
    "class Queue:\n",
    "    \"\"\"FIFO Queue implementation using a Python list as underlying storage.\"\"\"\n",
    "\n",
    "    def __init__(self):\n",
    "        self._queue = []\n",
    "        self._size = 0\n",
    "\n",
    "    def __len__(self):\n",
    "        return int(len(self._queue))\n",
    "    \n",
    "    def is_empty(self):\n",
    "        return len(self._queue) == 0\n",
    "\n",
    "    def __repr__(self):\n",
    "        return str(self._queue)\n",
    "    \n",
    "    def first(self):\n",
    "        if self.is_empty():\n",
    "            raise Empty(\"Queue is empty!\")\n",
    "        \n",
    "        return self._queue[0]\n",
    "    \n",
    "    def dequeue(self):\n",
    "        if self.is_empty():\n",
    "            raise Empty(\"Queue is empty!\")\n",
    "        self._size -= 1\n",
    "        \n",
    "        return self._queue.pop(0)\n",
    "    \n",
    "    def enqueue(self, e):\n",
    "        self._queue.append(e)\n",
    "        self._size += 1"
   ]
  },
  {
   "cell_type": "code",
   "execution_count": 460,
   "metadata": {},
   "outputs": [],
   "source": [
    "class Node:\n",
    "    def __init__(self, value, parent=None, left=None, right=None):\n",
    "        self.value = value\n",
    "        self.left = left\n",
    "        self.right = right\n",
    "        self.parent = parent\n",
    "\n",
    "    def __repr__(self):\n",
    "        return str(self.value)"
   ]
  },
  {
   "cell_type": "code",
   "execution_count": 479,
   "metadata": {},
   "outputs": [],
   "source": [
    "class BinaryTree:\n",
    "    def __init__(self, root):\n",
    "        self.root = root\n",
    "\n",
    "    def add_left(self, parent:Node, child:Node):\n",
    "        if parent.left == None:\n",
    "            parent.left = child\n",
    "            child.parent = parent\n",
    "        else:\n",
    "            raise Error(\"The node already has a left child!\")\n",
    "        \n",
    "    def add_right(self, parent:Node, child:Node):\n",
    "        if parent.right == None:\n",
    "            parent.right = child\n",
    "            child.parent = parent\n",
    "        else:\n",
    "            raise Error(\"The node already has a right child!\")\n",
    "        \n",
    "    def is_root(self, element:Node):\n",
    "        return element == self.root\n",
    "    \n",
    "    def is_leaf(self, element:Node):\n",
    "        return element.left == None and element.right == None\n",
    "    \n",
    "    def check_ancestor(self, parent:Node, child:Node):\n",
    "        return child.parent == parent\n",
    "    \n",
    "    def preorder(self, element:Node):\n",
    "        print(element, end=\" \")\n",
    "        if element.left:\n",
    "            self.preorder(element.left)\n",
    "        if element.right:\n",
    "            self.preorder(element.right)\n",
    "\n",
    "    def postorder(self, element:Node):\n",
    "        if element.left:\n",
    "            self.postorder(element.left)\n",
    "        if element.right:                \n",
    "            self.postorder(element.right)\n",
    "        print(element.value, end=\" \")\n",
    "\n",
    "    def breadthFirst(self, element):\n",
    "        q = Queue()\n",
    "        q.enqueue(element)\n",
    "        while q:\n",
    "            temp = q.dequeue()\n",
    "            print(temp, end=\" \")\n",
    "            if temp.left:\n",
    "                q.enqueue(temp.left)\n",
    "            if temp.right:    \n",
    "                q.enqueue(temp.right)\n",
    "\n",
    "    def inorder(self, element):\n",
    "        if element.left:\n",
    "            self.inorder(element.left)\n",
    "        print(element, end=\" \")\n",
    "        if element.right:\n",
    "            self.inorder(element.right)  \n",
    "\n",
    "    def count_nodes(self, element):\n",
    "        #Using PreOrder Traversal\n",
    "        if element == None:\n",
    "            return 0\n",
    "        return 1 + self.count_nodes(element.right) + self.count_nodes(element.left)\n",
    "\n",
    "    def spe_nodes(self, element, num):\n",
    "        pass\n",
    "        \n",
    "    def sum_nodes(self, element):\n",
    "        #Using Preorder Traversal\n",
    "        if element == None:\n",
    "            return 0 \n",
    "        return element.value + self.sum_nodes(element.right) + self.sum_nodes(element.left)\n",
    "\n",
    "    # def sum_nodes(self):\n",
    "    #     pass\n",
    "\n",
    "    def depth(self, element:Node):\n",
    "        if not element:\n",
    "            return 0\n",
    "        return 1 + max(self.depth(element.left), self.depth(element.right))\n",
    "\n",
    "    def specialTraversal(self, element):\n",
    "        q = Queue()\n",
    "        q.enqueue(element)\n",
    "        while q:\n",
    "            temp = q.dequeue()\n",
    "            print(temp, end=\" \")\n",
    "            if temp.right:\n",
    "                q.enqueue(temp.right)\n",
    "\n",
    "    def __repr__(self):\n",
    "        return str(self.value)"
   ]
  },
  {
   "cell_type": "code",
   "execution_count": 480,
   "metadata": {},
   "outputs": [],
   "source": [
    "a1 = Node(1)\n",
    "a2 = Node(2)\n",
    "a3 = Node(3)\n",
    "a4 = Node(4)\n",
    "a5 = Node(5)\n",
    "a6 = Node(6)\n",
    "a7 = Node(7)\n",
    "a8 = Node(8)\n",
    "a9 = Node(9)\n",
    "a10 = Node(10)\n",
    "a11 = Node(11)\n",
    "a12 = Node(12)\n",
    "a13 = Node(13)\n",
    "a14 = Node(14)\n",
    "a15 = Node(15)\n",
    "a16 = Node(16)\n",
    "a17 = Node(17)\n",
    "a18 = Node(18)\n",
    "a19 = Node(19)\n",
    "a20 = Node(20)\n",
    "a21 = Node(21)\n",
    "\n",
    "check = BinaryTree(a1)\n",
    "check.add_left(a1, a2)\n",
    "check.add_right(a1, a3)\n",
    "\n",
    "check.add_left(a2, a4)\n",
    "check.add_right(a2, a5)\n",
    "\n",
    "check.add_left(a4, a8)\n",
    "check.add_right(a4, a9)\n",
    "\n",
    "check.add_left(a5, a10)\n",
    "check.add_right(a5, a11)\n",
    "\n",
    "check.add_left(a11, a16)\n",
    "check.add_right(a11, a17)\n",
    "\n",
    "check.add_left(a3, a6)\n",
    "check.add_right(a3, a7)\n",
    "\n",
    "check.add_left(a6, a12)\n",
    "check.add_right(a6, a13)\n",
    "\n",
    "check.add_left(a7, a14)\n",
    "check.add_right(a7, a15)\n",
    "\n",
    "check.add_left(a14, a18)\n",
    "check.add_right(a14, a19)\n",
    "\n",
    "check.add_left(a19, a21)\n",
    "check.add_left(a17, a20)"
   ]
  },
  {
   "cell_type": "code",
   "execution_count": 481,
   "metadata": {},
   "outputs": [
    {
     "name": "stdout",
     "output_type": "stream",
     "text": [
      "1 2 4 8 9 5 10 11 16 17 20 3 6 12 13 7 14 18 19 21 15 "
     ]
    }
   ],
   "source": [
    "check.preorder(a1)"
   ]
  },
  {
   "cell_type": "code",
   "execution_count": 482,
   "metadata": {},
   "outputs": [
    {
     "name": "stdout",
     "output_type": "stream",
     "text": [
      "8 9 4 10 16 20 17 11 5 2 12 13 6 18 21 19 14 15 7 3 1 "
     ]
    }
   ],
   "source": [
    "check.postorder(a1)"
   ]
  },
  {
   "cell_type": "code",
   "execution_count": 483,
   "metadata": {},
   "outputs": [
    {
     "name": "stdout",
     "output_type": "stream",
     "text": [
      "1 2 3 4 5 6 7 8 9 10 11 12 13 14 15 16 17 18 19 20 21 "
     ]
    }
   ],
   "source": [
    "check.breadthFirst(a1)"
   ]
  },
  {
   "cell_type": "code",
   "execution_count": 484,
   "metadata": {},
   "outputs": [
    {
     "name": "stdout",
     "output_type": "stream",
     "text": [
      "8 4 9 2 10 5 16 11 20 17 1 12 6 13 3 18 14 21 19 7 15 "
     ]
    }
   ],
   "source": [
    "check.inorder(a1)"
   ]
  },
  {
   "attachments": {},
   "cell_type": "markdown",
   "metadata": {},
   "source": [
    "#### **Problem 2: Tree Traversal Applications**"
   ]
  },
  {
   "cell_type": "code",
   "execution_count": 485,
   "metadata": {},
   "outputs": [
    {
     "name": "stdout",
     "output_type": "stream",
     "text": [
      "The total number of nodes in the tree: 21\n"
     ]
    }
   ],
   "source": [
    "print(\"The total number of nodes in the tree:\", check.count_nodes(a1))"
   ]
  },
  {
   "cell_type": "code",
   "execution_count": 486,
   "metadata": {},
   "outputs": [
    {
     "name": "stdout",
     "output_type": "stream",
     "text": [
      "The sum of all elements in the tree.: 231\n"
     ]
    }
   ],
   "source": [
    "print(\"The sum of all elements in the tree.:\", check.sum_nodes(a1))"
   ]
  },
  {
   "cell_type": "code",
   "execution_count": 487,
   "metadata": {},
   "outputs": [
    {
     "name": "stdout",
     "output_type": "stream",
     "text": [
      "Depth of the tree: 6\n"
     ]
    }
   ],
   "source": [
    "print(\"Depth of the tree:\", check.depth(a1))"
   ]
  },
  {
   "attachments": {},
   "cell_type": "markdown",
   "metadata": {},
   "source": [
    "#### **Problem 3: Special Traversal of Binary Tree**"
   ]
  },
  {
   "cell_type": "code",
   "execution_count": 488,
   "metadata": {},
   "outputs": [],
   "source": [
    "c1 = Node(8)\n",
    "c2 = Node(3)\n",
    "c3 = Node(10)\n",
    "c4 = Node(1)\n",
    "c5 = Node(6)\n",
    "c6 = Node(14)\n",
    "c7 = Node(4)\n",
    "c8 = Node(7)\n",
    "c9 = Node(13)"
   ]
  },
  {
   "cell_type": "code",
   "execution_count": 489,
   "metadata": {},
   "outputs": [],
   "source": [
    "check3 = BinaryTree(c1)\n",
    "check3.add_left(c1, c2)\n",
    "check3.add_right(c1, c3)\n",
    "\n",
    "check3.add_left(c2, c4)\n",
    "\n",
    "check3.add_left(c3, c5)\n",
    "check3.add_right(c3, c6)\n",
    "\n",
    "check3.add_left(c5, c7)\n",
    "check3.add_right(c5, c8)\n",
    "\n",
    "check3.add_left(c6, c9)"
   ]
  },
  {
   "cell_type": "code",
   "execution_count": 490,
   "metadata": {},
   "outputs": [
    {
     "name": "stdout",
     "output_type": "stream",
     "text": [
      "8 10 14 "
     ]
    }
   ],
   "source": [
    "check3.specialTraversal(c1)"
   ]
  }
 ],
 "metadata": {
  "kernelspec": {
   "display_name": "Python 3",
   "language": "python",
   "name": "python3"
  },
  "language_info": {
   "codemirror_mode": {
    "name": "ipython",
    "version": 3
   },
   "file_extension": ".py",
   "mimetype": "text/x-python",
   "name": "python",
   "nbconvert_exporter": "python",
   "pygments_lexer": "ipython3",
   "version": "3.9.6"
  },
  "orig_nbformat": 4,
  "vscode": {
   "interpreter": {
    "hash": "31f2aee4e71d21fbe5cf8b01ff0e069b9275f58929596ceb00d14d90e3e16cd6"
   }
  }
 },
 "nbformat": 4,
 "nbformat_minor": 2
}
