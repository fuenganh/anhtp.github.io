{
 "cells": [
  {
   "attachments": {},
   "cell_type": "markdown",
   "metadata": {},
   "source": [
    "- Full name: Trần Phương Anh\n",
    "- Student ID: 11219258\n",
    "- Class: DSEB63"
   ]
  },
  {
   "attachments": {},
   "cell_type": "markdown",
   "metadata": {},
   "source": [
    "#### **Problem 1: BinaryTree class**"
   ]
  },
  {
   "cell_type": "code",
   "execution_count": 580,
   "metadata": {},
   "outputs": [],
   "source": [
    "class Error(Exception):\n",
    "    pass"
   ]
  },
  {
   "attachments": {},
   "cell_type": "markdown",
   "metadata": {},
   "source": [
    "a. Implement a Node class and a BinaryTree class."
   ]
  },
  {
   "cell_type": "code",
   "execution_count": 581,
   "metadata": {},
   "outputs": [],
   "source": [
    "class Node:\n",
    "    def __init__(self, value, parent=None, left=None, right=None):\n",
    "        self.value = value\n",
    "        self.left = left\n",
    "        self.right = right\n",
    "        self.parent = parent"
   ]
  },
  {
   "cell_type": "code",
   "execution_count": 582,
   "metadata": {},
   "outputs": [],
   "source": [
    "class BinaryTree:\n",
    "    def __init__(self, root):\n",
    "        self.root = root\n",
    "\n",
    "    def add_left(self, parent: Node, child: Node):\n",
    "        if parent.right == None:\n",
    "            parent.left = child\n",
    "            child.parent = parent\n",
    "        else:\n",
    "            raise Error(\"The node already has a right child!\")   \n",
    "\n",
    "    def add_right(self, parent: Node, child: Node):\n",
    "        if parent.right == None:\n",
    "            parent.right = child\n",
    "            child.parent = parent\n",
    "        else:\n",
    "            raise Error(\"The node already has a right child!\")\n",
    "\n",
    "    def is_leaf(self, element: Node):\n",
    "        return element.left == None and element.right == None\n",
    "        \n",
    "    def check_ancestor(self, parent: Node, child: Node):\n",
    "        return child.parent == parent\n",
    "\n",
    "    def height(self, element):\n",
    "        if self.is_leaf(element):\n",
    "            return 0\n",
    "       \n",
    "        return max(self.height(element.left), self.height(element.right)) + 1\n",
    "\n",
    "    def depth(self, element):\n",
    "        if not element.parent:\n",
    "            return 0\n",
    "        \n",
    "        return 1 + self.depth(element.parent)\n",
    "    \n",
    "    def sum_right_leaf(self, element: Node):\n",
    "        if not element:\n",
    "            return 0 \n",
    "        \n",
    "        if element.right and self.is_leaf(element.right):\n",
    "            return element.right.value + self.sum_right_leaf(element.left)\n",
    "        \n",
    "        return self.sum_right_leaf(element.left) + self.sum_right_leaf(element.right) \n",
    "\n",
    "    def result(self):\n",
    "        return self.sum_right_leaf(self.root)\n",
    "\n",
    "    def __repr__(self):\n",
    "        return str(self.value)"
   ]
  },
  {
   "cell_type": "code",
   "execution_count": 583,
   "metadata": {},
   "outputs": [],
   "source": [
    "a = Node(1)\n",
    "b = Node(2)\n",
    "c = Node(3)\n",
    "d = Node(4)\n",
    "e = Node(5)\n",
    "f = Node(6)\n",
    "g = Node(7)\n",
    "h = Node(8)\n",
    "i = Node(9)"
   ]
  },
  {
   "cell_type": "code",
   "execution_count": 584,
   "metadata": {},
   "outputs": [],
   "source": [
    "binary_tree = BinaryTree(a)\n",
    "\n",
    "binary_tree.add_left(a, b)\n",
    "binary_tree.add_right(a, c)\n",
    "\n",
    "binary_tree.add_left(b, d)\n",
    "binary_tree.add_right(b, e)\n",
    "\n",
    "binary_tree.add_left(e, g)\n",
    "binary_tree.add_right(e, h)\n",
    "\n",
    "binary_tree.add_left(c, f)\n",
    "binary_tree.add_left(f, i)"
   ]
  },
  {
   "attachments": {},
   "cell_type": "markdown",
   "metadata": {},
   "source": [
    "b. Check your implementation by performing these tasks:"
   ]
  },
  {
   "attachments": {},
   "cell_type": "markdown",
   "metadata": {},
   "source": [
    "• Find the height and depth of node 5."
   ]
  },
  {
   "cell_type": "code",
   "execution_count": 585,
   "metadata": {},
   "outputs": [
    {
     "name": "stdout",
     "output_type": "stream",
     "text": [
      "1\n",
      "2\n"
     ]
    }
   ],
   "source": [
    "print(binary_tree.height(e))\n",
    "print(binary_tree.depth(e))"
   ]
  },
  {
   "attachments": {},
   "cell_type": "markdown",
   "metadata": {},
   "source": [
    "• Using overloading to print out all elements in the tree."
   ]
  },
  {
   "cell_type": "code",
   "execution_count": null,
   "metadata": {},
   "outputs": [],
   "source": [
    "\n"
   ]
  },
  {
   "attachments": {},
   "cell_type": "markdown",
   "metadata": {},
   "source": [
    "#### **Problem 2: Leaf Nodes**"
   ]
  },
  {
   "attachments": {},
   "cell_type": "markdown",
   "metadata": {},
   "source": [
    "• Example 1"
   ]
  },
  {
   "cell_type": "code",
   "execution_count": 586,
   "metadata": {},
   "outputs": [],
   "source": [
    "a1 = Node(1)\n",
    "a2 = Node(2)\n",
    "a3 = Node(3)\n",
    "a4 = Node(4)\n",
    "a5 = Node(5)\n",
    "a6 = Node(6)"
   ]
  },
  {
   "cell_type": "code",
   "execution_count": 587,
   "metadata": {},
   "outputs": [
    {
     "data": {
      "text/plain": [
       "5"
      ]
     },
     "execution_count": 587,
     "metadata": {},
     "output_type": "execute_result"
    }
   ],
   "source": [
    "example1 = BinaryTree(a1)\n",
    "\n",
    "example1.add_left(a1, a2)\n",
    "example1.add_right(a1, a3)\n",
    "\n",
    "example1.add_left(a2, a4)\n",
    "example1.add_right(a2, a5)\n",
    "\n",
    "example1.add_left(a3, a6)\n",
    "\n",
    "#Calculate sum all of the leaf nodes\n",
    "example1.result()"
   ]
  },
  {
   "attachments": {},
   "cell_type": "markdown",
   "metadata": {},
   "source": [
    "• Example 2"
   ]
  },
  {
   "cell_type": "code",
   "execution_count": 588,
   "metadata": {},
   "outputs": [],
   "source": [
    "b1 = Node(1)\n",
    "b2 = Node(2)\n",
    "b3 = Node(3)\n",
    "b4 = Node(4)\n",
    "b5 = Node(5)\n",
    "b6 = Node(6)\n",
    "b7 = Node(7)\n",
    "b8 = Node(8)\n",
    "b9 = Node(9)"
   ]
  },
  {
   "cell_type": "code",
   "execution_count": 589,
   "metadata": {},
   "outputs": [
    {
     "data": {
      "text/plain": [
       "21"
      ]
     },
     "execution_count": 589,
     "metadata": {},
     "output_type": "execute_result"
    }
   ],
   "source": [
    "example2 = BinaryTree(b1)\n",
    "\n",
    "example2.add_left(b1, b2)\n",
    "example2.add_right(b1, b3)\n",
    "\n",
    "example2.add_left(b2, b4)\n",
    "example2.add_right(b2, b5)\n",
    "\n",
    "example2.add_right(b3, b6)\n",
    "\n",
    "example2.add_right(b4, b7)\n",
    "\n",
    "example2.add_left(b6, b8)\n",
    "example2.add_right(b6, b9)\n",
    "\n",
    "#Calculate sum all of the leaf nodes\n",
    "example2.result()"
   ]
  },
  {
   "attachments": {},
   "cell_type": "markdown",
   "metadata": {},
   "source": [
    "#### **Problem 3: Binary Search Tree**"
   ]
  },
  {
   "attachments": {},
   "cell_type": "markdown",
   "metadata": {},
   "source": [
    "a. Do the following tasks:"
   ]
  },
  {
   "cell_type": "code",
   "execution_count": 590,
   "metadata": {},
   "outputs": [],
   "source": [
    "class BinarySearchTree:\n",
    "    def __init__(self, root):\n",
    "        self.root = None\n",
    "\n",
    "    def insert(self, element: Node):\n",
    "        if not self.root:\n",
    "            self.root = element\n",
    "            return\n",
    "        \n",
    "        temp = self.root\n",
    "        while True:\n",
    "            if element.value < temp.value:\n",
    "                if not temp.left:\n",
    "                    temp.left = element\n",
    "                    return\n",
    "                temp = temp.left\n",
    "        \n",
    "            else:\n",
    "                if not temp.right:\n",
    "                    temp.right = element\n",
    "                    return\n",
    "                temp = temp.right\n",
    "\n",
    "    def iterative_search(self, element):\n",
    "        \"\"\"Check if a a given element is in a BST or not without RECURSION!\"\"\"\n",
    "        temp = self.root\n",
    "        while temp:\n",
    "            if temp.value == element:\n",
    "                return True\n",
    "            elif temp.value > element:\n",
    "                temp = temp.left\n",
    "            elif temp.value < element:\n",
    "                temp = temp.right        \n",
    "        return False\n",
    "\n",
    "    def __repr__(self):\n",
    "        return str(self.value)"
   ]
  },
  {
   "attachments": {},
   "cell_type": "markdown",
   "metadata": {},
   "source": [
    "b. Check the implementation:"
   ]
  },
  {
   "cell_type": "code",
   "execution_count": 591,
   "metadata": {},
   "outputs": [],
   "source": [
    "a = Node(8)\n",
    "b = Node(3)\n",
    "c = Node(10)\n",
    "d = Node(1)\n",
    "e = Node(6)\n",
    "f = Node(14)\n",
    "g = Node(4)\n",
    "h = Node(7)\n",
    "i = Node(13)\n"
   ]
  },
  {
   "attachments": {},
   "cell_type": "markdown",
   "metadata": {},
   "source": [
    "• Create a BST as above using insert."
   ]
  },
  {
   "cell_type": "code",
   "execution_count": 592,
   "metadata": {},
   "outputs": [],
   "source": [
    "binary_search_tree = BinarySearchTree(a)\n",
    "binary_search_tree.insert(a)\n",
    "binary_search_tree.insert(b)\n",
    "binary_search_tree.insert(c)\n",
    "binary_search_tree.insert(d)\n",
    "binary_search_tree.insert(e)\n",
    "binary_search_tree.insert(f)\n",
    "binary_search_tree.insert(g)\n",
    "binary_search_tree.insert(h)\n",
    "binary_search_tree.insert(i)"
   ]
  },
  {
   "attachments": {},
   "cell_type": "markdown",
   "metadata": {},
   "source": [
    "• Check if 0, 3, 4 and 12 are in the BST."
   ]
  },
  {
   "cell_type": "code",
   "execution_count": 593,
   "metadata": {},
   "outputs": [
    {
     "name": "stdout",
     "output_type": "stream",
     "text": [
      "False\n",
      "True\n",
      "True\n",
      "False\n"
     ]
    }
   ],
   "source": [
    "print(binary_search_tree.iterative_search(0))\n",
    "print(binary_search_tree.iterative_search(3)) \n",
    "print(binary_search_tree.iterative_search(4)) \n",
    "print(binary_search_tree.iterative_search(12))"
   ]
  },
  {
   "cell_type": "code",
   "execution_count": null,
   "metadata": {},
   "outputs": [],
   "source": []
  }
 ],
 "metadata": {
  "kernelspec": {
   "display_name": "Python 3",
   "language": "python",
   "name": "python3"
  },
  "language_info": {
   "codemirror_mode": {
    "name": "ipython",
    "version": 3
   },
   "file_extension": ".py",
   "mimetype": "text/x-python",
   "name": "python",
   "nbconvert_exporter": "python",
   "pygments_lexer": "ipython3",
   "version": "3.9.6"
  },
  "orig_nbformat": 4,
  "vscode": {
   "interpreter": {
    "hash": "31f2aee4e71d21fbe5cf8b01ff0e069b9275f58929596ceb00d14d90e3e16cd6"
   }
  }
 },
 "nbformat": 4,
 "nbformat_minor": 2
}
